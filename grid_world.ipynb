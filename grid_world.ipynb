{
 "cells": [
  {
   "cell_type": "markdown",
   "metadata": {
    "colab_type": "text",
    "id": "4IPkykjfAeDx"
   },
   "source": [
    "# Learning disentangled representations in 'grid-world'"
   ]
  },
  {
   "cell_type": "markdown",
   "metadata": {
    "colab_type": "text",
    "id": "HhDLRMM7AeDy"
   },
   "source": [
    "## 1. Preamble"
   ]
  },
  {
   "cell_type": "code",
   "execution_count": 12,
   "metadata": {
    "colab": {
     "base_uri": "https://localhost:8080/",
     "height": 34
    },
    "colab_type": "code",
    "id": "EdlZYihnAeDz",
    "outputId": "698b4884-09d3-499e-c184-a72028a83bde"
   },
   "outputs": [
    {
     "name": "stdout",
     "output_type": "stream",
     "text": [
      "Set seaborn plotting defaults.\n"
     ]
    }
   ],
   "source": [
    "import os\n",
    "\n",
    "import torch\n",
    "import random\n",
    "import torch.nn as nn\n",
    "import torch.nn.functional as F\n",
    "import torch.optim as optim\n",
    "import numpy as np\n",
    "import matplotlib.pyplot as plt\n",
    "\n",
    "import time\n",
    "from IPython import display\n",
    "\n",
    "try:\n",
    "    import seaborn as sns\n",
    "    sns.set()\n",
    "    print(\"Set seaborn plotting defaults.\")\n",
    "except:\n",
    "    print(\"seaborn not found.\")"
   ]
  },
  {
   "cell_type": "code",
   "execution_count": 13,
   "metadata": {
    "colab": {},
    "colab_type": "code",
    "id": "_ROsYyPSAeD2"
   },
   "outputs": [],
   "source": [
    "def mk_dir(export_dir, quite=False):\n",
    "    if not os.path.exists(export_dir):\n",
    "            try:\n",
    "                os.makedirs(export_dir)\n",
    "                print('created dir: ', export_dir)\n",
    "            except OSError as exc: # Guard against race condition\n",
    "                 if exc.errno != exc.errno.EEXIST:\n",
    "                    raise\n",
    "            except Exception:\n",
    "                pass\n",
    "    else:\n",
    "        print('dir already exists: ', export_dir)"
   ]
  },
  {
   "cell_type": "markdown",
   "metadata": {
    "colab_type": "text",
    "id": "qAt1HyxhAeD4"
   },
   "source": [
    "## 2. Defining objects"
   ]
  },
  {
   "cell_type": "markdown",
   "metadata": {
    "colab_type": "text",
    "id": "HtbtbDuwAeD5"
   },
   "source": [
    "### GridWorld environment\n",
    "\n",
    "First I'll define the GridWorld environment to work in.  The basic idea is that the ball is on a 2-d grid with $n$ discrete points in each dimension.  The available actions step the ball one step in each direction (i.e. there are 4 actions: up/down/left/right).\n",
    "\n",
    "Initally, the observations returned are just an $n \\times n$ matrix, with zeros everywhere except where the ball is, which is 1."
   ]
  },
  {
   "cell_type": "code",
   "execution_count": 14,
   "metadata": {
    "colab": {},
    "colab_type": "code",
    "id": "UMkl4C23AeD6"
   },
   "outputs": [],
   "source": [
    "class GridWorld():\n",
    "    \n",
    "    class action_space():\n",
    "        def __init__(self,n_actions):\n",
    "            self.n = n_actions\n",
    "            \n",
    "        def sample(self, k=1):\n",
    "            return torch.randint(0,self.n,(k,))       \n",
    "\n",
    "    class observation_space():\n",
    "        def __init__(self,n_features):\n",
    "            self.shape = [n_features]\n",
    "    \n",
    "    def __init__(self,dim=5):\n",
    "\n",
    "        self.dim = dim\n",
    "\n",
    "        self.action_space = self.action_space(4)\n",
    "        self.observation_space = self.observation_space(dim**2)\n",
    "        \n",
    "        self.reset()\n",
    "        \n",
    "    def reset(self):\n",
    "        self.ball_coordinates = [random.randrange(self.dim), random.randrange(self.dim)]\n",
    "        self.state = self.get_state()\n",
    "        return self.get_observation()\n",
    "    \n",
    "    def get_state(self, ball_coordinates=None):\n",
    "        if ball_coordinates is None:\n",
    "            ball_coordinates=self.ball_coordinates\n",
    "            \n",
    "        state = torch.zeros((self.dim,self.dim))\n",
    "        state[ball_coordinates[0],ball_coordinates[1]] = 1\n",
    "        \n",
    "        return state\n",
    "    \n",
    "    def get_observation(self):\n",
    "        return self.state.flatten()\n",
    "    \n",
    "    def step(self,action):\n",
    "\n",
    "        if action == 0:\n",
    "            self.ball_coordinates[0] = (self.ball_coordinates[0] + 1)%self.dim\n",
    "        elif action == 1:\n",
    "            self.ball_coordinates[0] = (self.ball_coordinates[0] - 1)%self.dim\n",
    "        elif action == 2:\n",
    "            self.ball_coordinates[1] = (self.ball_coordinates[1] + 1)%self.dim\n",
    "        elif action == 3:\n",
    "            self.ball_coordinates[1] = (self.ball_coordinates[1] - 1)%self.dim\n",
    "        else:\n",
    "            raise Exception(\"Invalid action.\")\n",
    "\n",
    "        self.state = self.get_state()\n",
    "\n",
    "        return self.get_observation()"
   ]
  },
  {
   "cell_type": "markdown",
   "metadata": {},
   "source": [
    "Now show a few consecutive states from this gridworld"
   ]
  },
  {
   "cell_type": "code",
   "execution_count": 15,
   "metadata": {
    "colab": {
     "base_uri": "https://localhost:8080/",
     "height": 79
    },
    "colab_type": "code",
    "id": "WYF6D4UAAeD7",
    "outputId": "211e95d6-9174-420e-8b26-0fbac68e4a1d"
   },
   "outputs": [
    {
     "data": {
      "image/png": "[encoded data removed]",
      "text/plain": [
       "<Figure size 432x288 with 6 Axes>"
      ]
     },
     "metadata": {},
     "output_type": "display_data"
    }
   ],
   "source": [
    "def plot_state(state, ax):\n",
    "    ax.pcolormesh(env.state, edgecolors='gray', linewidth=2, )\n",
    "    ax.set_aspect('equal')\n",
    "    ax.set_xticks([])\n",
    "    ax.set_yticks([])\n",
    "    \n",
    "    return ax\n",
    "    \n",
    "n_steps = 5\n",
    "\n",
    "env = GridWorld()\n",
    "\n",
    "fig, axs = plt.subplots(1, n_steps+1,)\n",
    "\n",
    "plot_state(env.state,axs[0])\n",
    "\n",
    "for i in range(n_steps):\n",
    "    env.step(np.random.randint(0,4))\n",
    "    plot_state(env.state,axs[i+1])"
   ]
  },
  {
   "cell_type": "markdown",
   "metadata": {
    "colab_type": "text",
    "id": "Gzsh-zbdAeD9"
   },
   "source": [
    "### Latent space\n",
    "\n",
    "**Encoder/Decoder**\n",
    "\n",
    "Now we want to learn to represent this environment in some latent space (which we, for now, simply assume to be 4-dimensional).  We will require both an encoder and decoder."
   ]
  },
  {
   "cell_type": "code",
   "execution_count": 16,
   "metadata": {
    "colab": {},
    "colab_type": "code",
    "id": "KQlDE5IlAeD-"
   },
   "outputs": [],
   "source": [
    "class Coder(nn.Module):\n",
    "\n",
    "    def __init__(self, n_in, n_out, n_hid=[32], output_activation=nn.Sigmoid):\n",
    "        super().__init__()\n",
    "        \n",
    "        if type(n_hid) != list:\n",
    "            n_hid = [n_hid]\n",
    "        n_layers = [n_in] + n_hid + [n_out]\n",
    "\n",
    "        self.layers = []\n",
    "        for i_layer, (n1, n2) in enumerate(zip(n_layers, n_layers[1:])):\n",
    "            mods = [nn.Linear(n1, n2, bias=True)]\n",
    "            act_fn = nn.ReLU if i_layer < len(n_layers) - 2 else output_activation\n",
    "            if act_fn is not None:\n",
    "                mods.append(act_fn())\n",
    "            layer = nn.Sequential(*mods)\n",
    "            self.layers.append(layer)\n",
    "\n",
    "        self.layers = nn.ModuleList(self.layers)\n",
    "\n",
    "    def forward(self, x):\n",
    "        for layer in self.layers:\n",
    "            x = layer(x)\n",
    "        return x\n",
    "\n",
    "class nnNorm(nn.Module):\n",
    "    \n",
    "    def __init__(self, dim=-1):\n",
    "        super().__init__()\n",
    "        self.dim=dim\n",
    "        \n",
    "    def forward(self, x):\n",
    "        return F.normalize(x, dim=self.dim)\n",
    "    \n",
    "class Decoder(Coder):\n",
    "\n",
    "    def __init__(self, n_in, n_out, n_hid=[32]):\n",
    "        super().__init__(n_in, n_out, n_hid, output_activation=nn.Sigmoid)\n",
    "        \n",
    "class Encoder(Coder):\n",
    "\n",
    "    def __init__(self, n_in, n_out, n_hid=[32]):\n",
    "        super().__init__(n_in, n_out, n_hid, output_activation=nnNorm)"
   ]
  },
  {
   "cell_type": "code",
   "execution_count": 17,
   "metadata": {
    "colab": {
     "base_uri": "https://localhost:8080/",
     "height": 425
    },
    "colab_type": "code",
    "id": "jm_9CHiqAeEA",
    "outputId": "effc31d7-6ef8-4d83-f7f3-1ca384265502"
   },
   "outputs": [
    {
     "name": "stdout",
     "output_type": "stream",
     "text": [
      "Encoder(\n",
      "  (layers): ModuleList(\n",
      "    (0): Sequential(\n",
      "      (0): Linear(in_features=25, out_features=32, bias=True)\n",
      "      (1): ReLU()\n",
      "    )\n",
      "    (1): Sequential(\n",
      "      (0): Linear(in_features=32, out_features=4, bias=True)\n",
      "      (1): nnNorm()\n",
      "    )\n",
      "  )\n",
      ")\n",
      "Decoder(\n",
      "  (layers): ModuleList(\n",
      "    (0): Sequential(\n",
      "      (0): Linear(in_features=4, out_features=32, bias=True)\n",
      "      (1): ReLU()\n",
      "    )\n",
      "    (1): Sequential(\n",
      "      (0): Linear(in_features=32, out_features=25, bias=True)\n",
      "      (1): Sigmoid()\n",
      "    )\n",
      "  )\n",
      ")\n"
     ]
    }
   ],
   "source": [
    "encoder = Encoder(n_in=5*5, n_out=4, n_hid=[32])\n",
    "print(encoder)\n",
    "\n",
    "decoder = Decoder(n_in=4, n_out=5*5, n_hid=[32])\n",
    "print(decoder)"
   ]
  },
  {
   "cell_type": "markdown",
   "metadata": {},
   "source": [
    "Check to make sure dimensions are okay."
   ]
  },
  {
   "cell_type": "code",
   "execution_count": 18,
   "metadata": {
    "colab": {
     "base_uri": "https://localhost:8080/",
     "height": 204
    },
    "colab_type": "code",
    "id": "nUi-sYYqAeEC",
    "outputId": "2b4d8e82-9c31-4d20-a915-510b005f4f74"
   },
   "outputs": [
    {
     "name": "stdout",
     "output_type": "stream",
     "text": [
      "Observable rep (shape = torch.Size([25])) : \n",
      " tensor([0.2276, 0.8350, 0.4096, 0.0760, 0.1850, 0.5055, 0.7176, 0.2933, 0.2344,\n",
      "        0.8434, 0.6855, 0.8067, 0.9070, 0.0959, 0.9930, 0.4419, 0.1822, 0.0209,\n",
      "        0.8426, 0.0186, 0.0328, 0.8303, 0.1454, 0.4505, 0.5542])\n",
      "Latent rep (shape = torch.Size([4]), norm = 0.9999999403953552) : \n",
      " tensor([ 0.3447,  0.0625, -0.9034, -0.2474], grad_fn=<DivBackward0>)\n",
      "Reconstructed Observable rep (shape = torch.Size([25])) : \n",
      " tensor([0.4819, 0.5674, 0.5033, 0.4692, 0.4724, 0.3850, 0.4723, 0.4560, 0.5078,\n",
      "        0.4804, 0.4849, 0.5639, 0.5185, 0.4518, 0.5257, 0.4698, 0.5441, 0.4963,\n",
      "        0.5146, 0.4765, 0.5287, 0.4546, 0.4676, 0.5099, 0.5143],\n",
      "       grad_fn=<SigmoidBackward>)\n"
     ]
    }
   ],
   "source": [
    "x = torch.rand(25)\n",
    "z = encoder(x)\n",
    "x_recon = decoder(z)\n",
    "print(\"Observable rep (shape = {}) : \\n {}\".format(x.shape, x))\n",
    "print(\"Latent rep (shape = {}, norm = {}) : \\n {}\".format(z.shape, torch.norm(z), z))\n",
    "print(\"Reconstructed Observable rep (shape = {}) : \\n {}\".format(x_recon.shape, x_recon))"
   ]
  },
  {
   "cell_type": "markdown",
   "metadata": {
    "colab_type": "text",
    "id": "rdmLxC3qAeEE"
   },
   "source": [
    "**Representation**\n",
    "\n",
    "The crux of the matter is learning to 'represent' actions in the observation space with actions in latent space.  Here, we will do this by assuming every action is a generalized rotation in latent space, which we denote with a series of 2-dimensional rotations.\n",
    "\n",
    "A 2-d rotation is given by:\n",
    "\n",
    "\\begin{pmatrix}\n",
    "\\cos(\\theta) & \\sin(\\theta) \\\\\n",
    "-\\sin(\\theta) & \\cos(\\theta)\n",
    "\\end{pmatrix}\n",
    "\n",
    "and we denote a rotation in dimensions $i$ and $j$ of a higher dimensional space as $R_{i,j}(\\theta)$.  For $i=1$, $j=4$, in a 4-dimensional space:\n",
    "\n",
    "\\begin{equation}\n",
    "R_{1,4}(\\theta) = \n",
    "\\begin{pmatrix}\n",
    "\\cos(\\theta) & 0 & 0 & \\sin(\\theta) \\\\\n",
    "0 & 1 & 0 & 0 \\\\\n",
    "0 & 0 & 1 & 0 \\\\\n",
    "-\\sin(\\theta) & 0 & 0 & \\cos(\\theta)\n",
    "\\end{pmatrix}\n",
    "\\end{equation}\n",
    "\n",
    "An arbitrary rotation, denoted $g$ as I am subtly moving towards this being a group action, can then be written as:\n",
    "\n",
    "\\begin{equation}\n",
    "    g(\\theta_{1,2},\\theta_{1,3},\\dots,\\theta_{n-1,n}) = \\prod_{i=1}^{n-1} \\prod_{j=1+1}^{n} R_{i,j}(\\theta_{i,j})\n",
    "\\end{equation}\n",
    "\n",
    "which has $n(n-1)/2$ free parameters (i.e. $\\theta_{i,j}$'s)."
   ]
  },
  {
   "cell_type": "code",
   "execution_count": 19,
   "metadata": {
    "colab": {},
    "colab_type": "code",
    "id": "5iPq3hLqAeEF"
   },
   "outputs": [],
   "source": [
    "class Representation():\n",
    "\n",
    "    def __init__(self, dim=4):\n",
    "        self.dim = dim\n",
    "        self.params = dim*(dim-1)//2\n",
    "        self.thetas = torch.autograd.Variable(torch.rand(self.params)/dim, requires_grad=True)\n",
    "\n",
    "        self.__matrix = None\n",
    "    \n",
    "    def set_thetas(self, thetas):\n",
    "        self.thetas = thetas\n",
    "        self.thetas.requires_grad = True\n",
    "        self.clear_matrix()\n",
    "    \n",
    "    def clear_matrix(self):\n",
    "        self.__matrix = None\n",
    "        \n",
    "    def get_matrix(self):\n",
    "        if self.__matrix is None:\n",
    "            k = 0\n",
    "            mats = []\n",
    "            for i in range(self.dim-1):\n",
    "                for j in range(self.dim-1-i):\n",
    "                    theta_ij = self.thetas[k]\n",
    "                    k+=1\n",
    "                    c, s = torch.cos(theta_ij), torch.sin(theta_ij)\n",
    "\n",
    "                    rotation_i = torch.eye(self.dim, self.dim)\n",
    "                    rotation_i[i, i] = c\n",
    "                    rotation_i[i, i+j+1] = s\n",
    "                    rotation_i[j+i+1, i] = -s\n",
    "                    rotation_i[j+i+1, j+i+1] = c\n",
    "\n",
    "                    mats.append(rotation_i)\n",
    "\n",
    "            def chain_mult(l):\n",
    "                if len(l)>=3:\n",
    "                    return l[0]@l[1]@chain_mult(l[2:])\n",
    "                elif len(l)==2:\n",
    "                    return l[0]@l[1]\n",
    "                else:\n",
    "                    return l[0]\n",
    "\n",
    "            self.__matrix = chain_mult(mats)\n",
    "                                    \n",
    "        return self.__matrix"
   ]
  },
  {
   "cell_type": "markdown",
   "metadata": {
    "colab_type": "text",
    "id": "pP4HjqIjAeEI"
   },
   "source": [
    "**LatentWorld**\n",
    "\n",
    "Now, for symmetry's sake, we'll also have a `LatentWorld` which acts as the environment in the latent space."
   ]
  },
  {
   "cell_type": "code",
   "execution_count": 20,
   "metadata": {
    "colab": {},
    "colab_type": "code",
    "id": "ZWlWwxNLAeEJ"
   },
   "outputs": [],
   "source": [
    "class LatentWorld():\n",
    "    \n",
    "    class action_space():\n",
    "        def __init__(self,n_actions):\n",
    "            self.n = n_actions\n",
    "            \n",
    "        def sample(self, k=1):\n",
    "            return torch.randint(0,self.n,(k,))\n",
    "\n",
    "    class observation_space():\n",
    "        def __init__(self,n_features):\n",
    "            self.shape = [n_features]\n",
    "    \n",
    "    def __init__(self,\n",
    "                 dim=4,\n",
    "                 n_actions=4,\n",
    "                 action_reps=None):\n",
    "\n",
    "        self.dim = dim\n",
    "\n",
    "        self.action_space = self.action_space(n_actions)\n",
    "        self.observation_space = self.observation_space(dim)\n",
    "        \n",
    "        if action_reps is None:\n",
    "            self.action_reps = [Representation(dim=self.dim) for _ in range(n_actions)]\n",
    "        else:\n",
    "            if len(action_reps)!=n_actions:\n",
    "                raise Exception(\"Must pass an action representation for every action.\")\n",
    "            if not all([rep.dim==self.dim]):\n",
    "                raise Exception(\"Action representations do not act on the dimension of the latent space.\")\n",
    "            self.action_reps = action_reps\n",
    "        \n",
    "    def reset(self, state_init):\n",
    "        self.state = state_init\n",
    "        return self.get_observation()\n",
    "    \n",
    "    def clear_representations(self):\n",
    "        for rep in self.action_reps:\n",
    "            rep.clear_matrix()\n",
    "            \n",
    "    def get_representation_params(self):\n",
    "        params = []\n",
    "        for rep in self.action_reps:\n",
    "            params.append(rep.thetas)\n",
    "        return params\n",
    "    \n",
    "    def save_representations(self, path):\n",
    "        if os.path.splitext(path)[-1] != '.pth':\n",
    "            path += '.pth'\n",
    "        rep_thetas = [rep.thetas for rep in self.action_reps]\n",
    "        return torch.save(rep_thetas, path)\n",
    "    \n",
    "    def load_reprentations(self, path):\n",
    "        rep_thetas = torch.load(path)\n",
    "        for rep in self.action_reps:\n",
    "            rep.set_thetas(rep_thetas.pop(0))\n",
    "            \n",
    "    def get_observation(self):\n",
    "        return self.state\n",
    "    \n",
    "    def step(self,action):\n",
    "        self.state = torch.mv(self.action_reps[action].get_matrix(), self.state)\n",
    "        obs = self.get_observation()\n",
    "        return obs"
   ]
  },
  {
   "cell_type": "markdown",
   "metadata": {
    "colab_type": "text",
    "id": "vcS30ftfAeEL"
   },
   "source": [
    "## 3. Training\n",
    "\n",
    "So the basic training loop is pretty straightfoward.  We simply play out episodes from random starting configurations, encoded by the `Encoder`, for `ep_steps` time-steps.  Each random action is executed in both the `GridWorld` and the `LatentWorld`, and then the latent state is transformed to the observation space by the `Decoder` where the loss function measures its deviation from the true state."
   ]
  },
  {
   "cell_type": "code",
   "execution_count": 32,
   "metadata": {
    "colab": {},
    "colab_type": "code",
    "id": "jFSZYF8iAeEM"
   },
   "outputs": [],
   "source": [
    "obs_env = GridWorld(dim = 11)\n",
    "lat_env = LatentWorld(dim = 4,\n",
    "                      n_actions = obs_env.action_space.n)\n",
    "decoder = Decoder(n_in = sum(lat_env.observation_space.shape),\n",
    "                  n_out = sum(obs_env.observation_space.shape),\n",
    "                  n_hid = [32])\n",
    "encoder = Encoder(n_in = sum(obs_env.observation_space.shape),\n",
    "                  n_out = sum(lat_env.observation_space.shape),\n",
    "                  n_hid = [32])\n",
    "\n",
    "optimizer_dec = optim.Adam(decoder.parameters(),\n",
    "                           lr=2e-2,\n",
    "                           weight_decay=0)\n",
    "\n",
    "optimizer_enc = optim.Adam(encoder.parameters(),\n",
    "                           lr=5e-2,\n",
    "                           weight_decay=0)\n",
    "\n",
    "optimizer_rep = optim.Adam(lat_env.get_representation_params(),\n",
    "                           lr=2e-2,\n",
    "                           weight_decay=0)\n",
    "\n",
    "losses = []"
   ]
  },
  {
   "cell_type": "code",
   "execution_count": 33,
   "metadata": {
    "colab": {
     "base_uri": "https://localhost:8080/",
     "height": 867
    },
    "colab_type": "code",
    "id": "2EgBTgwZAeEO",
    "outputId": "9f3786c2-449a-4c0d-ec07-963e64f4ce32"
   },
   "outputs": [
    {
     "name": "stdout",
     "output_type": "stream",
     "text": [
      "iter 100 : loss=0.052 : last 10 iters in 0.570s\n",
      "iter 200 : loss=0.053 : last 10 iters in 0.700s\n",
      "iter 300 : loss=0.053 : last 10 iters in 0.590s\n",
      "iter 400 : loss=0.053 : last 10 iters in 0.603s\n",
      "iter 500 : loss=0.053 : last 10 iters in 0.812s\n",
      "iter 600 : loss=0.052 : last 10 iters in 0.631s\n",
      "iter 700 : loss=0.049 : last 10 iters in 0.575s\n",
      "iter 800 : loss=0.038 : last 10 iters in 0.729s\n",
      "iter 900 : loss=0.035 : last 10 iters in 0.647s\n",
      "iter 1000 : loss=0.033 : last 10 iters in 0.550s\n",
      "iter 1100 : loss=0.032 : last 10 iters in 0.692s\n",
      "iter 1200 : loss=0.034 : last 10 iters in 0.679s\n",
      "iter 1300 : loss=0.033 : last 10 iters in 0.623s\n",
      "iter 1400 : loss=0.031 : last 10 iters in 0.556s\n",
      "iter 1500 : loss=0.032 : last 10 iters in 0.582s\n",
      "iter 1600 : loss=0.029 : last 10 iters in 0.555s\n",
      "iter 1700 : loss=0.022 : last 10 iters in 0.561s\n",
      "iter 1800 : loss=0.017 : last 10 iters in 0.590s\n",
      "iter 1900 : loss=0.014 : last 10 iters in 0.606s\n",
      "iter 2000 : loss=0.009 : last 10 iters in 0.599s\n",
      "iter 2100 : loss=0.006 : last 10 iters in 0.667s\n",
      "iter 2200 : loss=0.006 : last 10 iters in 0.627s\n",
      "iter 2300 : loss=0.004 : last 10 iters in 0.801s\n",
      "iter 2400 : loss=0.002 : last 10 iters in 0.628s\n",
      "iter 2500 : loss=0.002 : last 10 iters in 0.610s\n",
      "iter 2600 : loss=0.001 : last 10 iters in 2.186s\n",
      "iter 2700 : loss=0.001 : last 10 iters in 0.845s\n",
      "iter 2800 : loss=0.000 : last 10 iters in 0.574s\n",
      "iter 2900 : loss=0.000 : last 10 iters in 0.797s\n",
      "iter 3000 : loss=0.000 : last 10 iters in 0.623s\n",
      "iter 3100 : loss=0.005 : last 10 iters in 0.567s\n",
      "iter 3200 : loss=0.008 : last 10 iters in 0.802s\n",
      "iter 3300 : loss=0.001 : last 10 iters in 0.601s\n",
      "iter 3400 : loss=0.000 : last 10 iters in 0.593s\n",
      "iter 3500 : loss=0.000 : last 10 iters in 0.872s\n",
      "iter 3600 : loss=0.000 : last 10 iters in 0.618s\n",
      "iter 3700 : loss=0.000 : last 10 iters in 0.669s\n",
      "iter 3800 : loss=0.000 : last 10 iters in 0.703s\n",
      "iter 3900 : loss=0.000 : last 10 iters in 0.571s\n",
      "iter 4000 : loss=0.000 : last 10 iters in 0.770s\n",
      "iter 4100 : loss=0.000 : last 10 iters in 0.606s\n",
      "iter 4200 : loss=0.000 : last 10 iters in 0.704s\n",
      "iter 4300 : loss=0.000 : last 10 iters in 0.778s\n",
      "iter 4400 : loss=0.000 : last 10 iters in 0.613s\n",
      "iter 4500 : loss=0.000 : last 10 iters in 0.585s\n",
      "iter 4600 : loss=0.000 : last 10 iters in 0.781s\n",
      "iter 4700 : loss=0.000 : last 10 iters in 0.609s\n",
      "iter 4800 : loss=0.000 : last 10 iters in 0.592s\n",
      "iter 4900 : loss=0.000 : last 10 iters in 0.616s\n",
      "iter 5000 : loss=0.000 : last 10 iters in 1.051s\n"
     ]
    }
   ],
   "source": [
    "n_sgd_steps = 5000\n",
    "ep_steps = 10\n",
    "batch_eps = 16\n",
    "\n",
    "i = 0\n",
    "\n",
    "t_start = time.time()\n",
    "\n",
    "temp = 0\n",
    "\n",
    "while i < n_sgd_steps:\n",
    "    \n",
    "    loss = torch.zeros(1)\n",
    "    \n",
    "    for _ in range(batch_eps):\n",
    "        t_ep = -1\n",
    "        while t_ep < ep_steps:\n",
    "            if t_ep == -1:\n",
    "                obs_x = obs_env.reset()\n",
    "                obs_z = lat_env.reset(encoder(obs_x))\n",
    "            else:\n",
    "                action = obs_env.action_space.sample().item()\n",
    "                obs_x = obs_env.step(action)\n",
    "                obs_z = lat_env.step(action)\n",
    "            \n",
    "            t_ep += 1         \n",
    "            \n",
    "            obs_x_recon = decoder(obs_z)\n",
    "\n",
    "            loss += F.binary_cross_entropy(obs_x_recon, obs_x)\n",
    "        \n",
    "    loss /= (ep_steps*batch_eps)\n",
    "                        \n",
    "    losses.append(loss.item())\n",
    "    \n",
    "    optimizer_dec.zero_grad()\n",
    "    optimizer_enc.zero_grad()\n",
    "    optimizer_rep.zero_grad()\n",
    "    loss.backward()\n",
    "    optimizer_enc.step()\n",
    "    optimizer_dec.step()\n",
    "    optimizer_rep.step()\n",
    "        \n",
    "    # Rember to clear the cached action representations after we update the parameters!\n",
    "    lat_env.clear_representations()\n",
    "\n",
    "    i+=1\n",
    "    \n",
    "    if i%10==0:\n",
    "        print(\"iter {} : loss={:.3f} : last 10 iters in {:.3f}s\".format(i, loss.item(), time.time() - t_start),\n",
    "              end=\"\\r\" if i%100 else \"\\n\")\n",
    "        t_start = time.time()"
   ]
  },
  {
   "cell_type": "markdown",
   "metadata": {},
   "source": [
    "**Plot training curve, then save the network**"
   ]
  },
  {
   "cell_type": "code",
   "execution_count": 34,
   "metadata": {
    "colab": {
     "base_uri": "https://localhost:8080/",
     "height": 287
    },
    "colab_type": "code",
    "id": "s003T8R9AeEQ",
    "outputId": "6788a0a9-8a69-44fb-f40a-ab758b123c49"
   },
   "outputs": [
    {
     "name": "stdout",
     "output_type": "stream",
     "text": [
      "dir already exists:  _data\n"
     ]
    },
    {
     "data": {
      "image/png": "[encoded data removed]",
      "text/plain": [
       "<Figure size 400x250 with 1 Axes>"
      ]
     },
     "metadata": {},
     "output_type": "display_data"
    }
   ],
   "source": [
    "mk_dir(\"_data\")\n",
    "\n",
    "with plt.style.context('seaborn-paper', after_reset=True):\n",
    "\n",
    "    fig, ax1 = plt.subplots(1, 1, figsize=(4, 2.5))\n",
    "\n",
    "    window = 25\n",
    "    avg_mask = np.ones(window) / window\n",
    "\n",
    "    ax1.plot(np.convolve(range(len(losses)), avg_mask, 'valid'),\n",
    "             np.convolve(np.log(losses), avg_mask, 'valid'),\n",
    "             linewidth=0.75,\n",
    "             alpha=0.8)\n",
    "#     ax1.set_yscale(\"log\")\n",
    "\n",
    "    ax1.set_xlabel(\"Num. parameter updates\")\n",
    "    ax1.set_ylabel(\"Log Loss\")\n",
    "    \n",
    "    fig_fname = \"_data/training_loss\"\n",
    "    plt.savefig(fig_fname + \".pdf\", bbox_inches='tight')\n",
    "    plt.savefig(fig_fname + \".png\", bbox_inches='tight')"
   ]
  },
  {
   "cell_type": "code",
   "execution_count": 35,
   "metadata": {
    "colab": {},
    "colab_type": "code",
    "id": "dmvIwtOuAeES"
   },
   "outputs": [],
   "source": [
    "torch.save(decoder.state_dict(), \"decoder.pth\")\n",
    "torch.save(encoder.state_dict(), \"encoder.pth\")\n",
    "rep_thetas = [rep.thetas for rep in lat_env.action_reps]\n",
    "torch.save(rep_thetas, \"representations.pth\")\n",
    "torch.save(optimizer_dec.state_dict(), \"optimizer_dec.pth\")\n",
    "torch.save(optimizer_enc.state_dict(), 'optimizer_enc.pth')\n",
    "torch.save(optimizer_rep.state_dict(), \"optimizer_rep.pth\")"
   ]
  },
  {
   "cell_type": "markdown",
   "metadata": {
    "colab_type": "text",
    "id": "EwYBhZqtAeET"
   },
   "source": [
    "## 4. Testing\n",
    "\n",
    "Testing is easy too, we just play out an episode and see how well the reconstructed image agrees with the ground truth!"
   ]
  },
  {
   "cell_type": "code",
   "execution_count": 36,
   "metadata": {
    "colab": {
     "base_uri": "https://localhost:8080/",
     "height": 277
    },
    "colab_type": "code",
    "id": "NjwESM1fAeEU",
    "outputId": "41c62714-de5c-4b1b-a7a0-974cbb4b0a3f"
   },
   "outputs": [
    {
     "data": {
      "image/png": "[encoded data removed]",
      "text/plain": [
       "<Figure size 432x288 with 2 Axes>"
      ]
     },
     "metadata": {},
     "output_type": "display_data"
    }
   ],
   "source": [
    "def plot_state(obs, ax, one_hot=True):\n",
    "    if one_hot:\n",
    "        obs=(obs == obs.max())\n",
    "    ax.pcolormesh(obs.reshape(obs_env.dim, obs_env.dim), edgecolors='gray', linewidth=2)\n",
    "    ax.set_aspect('equal')\n",
    "    ax.set_xticks([])\n",
    "    ax.set_yticks([])\n",
    "    \n",
    "    return ax\n",
    "    \n",
    "n_steps = 10\n",
    "\n",
    "fig, (ax1,ax2) = plt.subplots(2, 1)\n",
    "\n",
    "ax1.set_title(\"Ground truth\")\n",
    "ax2.set_title(\"Reconstruction\")\n",
    "\n",
    "for i in range(n_steps+1):\n",
    "    \n",
    "    if i==0:\n",
    "        action = \"N\\A\"\n",
    "        obs_x = obs_env.reset()\n",
    "        obs_z = lat_env.reset(encoder(obs_x))\n",
    "    else:\n",
    "        action = obs_env.action_space.sample().item()\n",
    "        obs_x = obs_env.step(action)\n",
    "        obs_z = lat_env.step(action)\n",
    "        \n",
    "    obs_x_recon = decoder(obs_z)\n",
    "    \n",
    "    fig.suptitle('step {} : last action = {}'.format(i, action), fontsize=16)\n",
    "    \n",
    "    plot_state(obs_x.detach().numpy(),ax1)\n",
    "    plot_state(obs_x_recon.detach().numpy(),ax2, one_hot=False)\n",
    "    \n",
    "    fig_fname = \"_data/testing_{}\".format(i)\n",
    "    plt.savefig(fig_fname + \".pdf\", bbox_inches='tight')\n",
    "    plt.savefig(fig_fname + \".png\", bbox_inches='tight')\n",
    "    \n",
    "    display.clear_output(wait=True)\n",
    "    display.display(plt.gcf())\n",
    "    time.sleep(0.5)\n",
    "    \n",
    "display.clear_output(wait=False)"
   ]
  },
  {
   "cell_type": "markdown",
   "metadata": {
    "colab_type": "text",
    "id": "aNiY4FD7DKoR"
   },
   "source": [
    "We will now have a look at the latent space, we will make a 2D projection of the 4D latent space for every possible frame (There are 25 for the 5x5 grid). Note that since we use random projections, in some cases the toric structure we find is more obvious than in others.\n",
    "\n",
    "**1) Positions on the grid**"
   ]
  },
  {
   "cell_type": "code",
   "execution_count": 56,
   "metadata": {
    "colab": {},
    "colab_type": "code",
    "id": "HzgmOPSODKQ-"
   },
   "outputs": [
    {
     "name": "stderr",
     "output_type": "stream",
     "text": [
      "/home/william/.local/lib/python3.6/site-packages/ipykernel_launcher.py:38: UserWarning: Matplotlib is currently using module://ipykernel.pylab.backend_inline, which is a non-GUI backend, so cannot show the figure.\n"
     ]
    },
    {
     "data": {
      "image/png": "[encoded data removed]",
      "text/plain": [
       "<Figure size 432x288 with 1 Axes>"
      ]
     },
     "metadata": {},
     "output_type": "display_data"
    }
   ],
   "source": [
    "from sklearn.random_projection import GaussianRandomProjection\n",
    "import matplotlib as mpl\n",
    "from mpl_toolkits.mplot3d import Axes3D\n",
    "\n",
    "fig = plt.figure()\n",
    "ax = fig.add_subplot(111)#, projection='3d')\n",
    "\n",
    "num_frames = sum(obs_env.observation_space.shape)\n",
    "\n",
    "latent_points = []\n",
    "\n",
    "for i in range(num_frames):\n",
    "    frame = torch.zeros(num_frames)\n",
    "    frame[i] = 1\n",
    "    latent = encoder(frame)\n",
    "    latent_points.append(latent.detach().tolist())\n",
    "\n",
    "latent_map = np.array(latent_points)\n",
    "\n",
    "pca = GaussianRandomProjection(n_components=2)\n",
    "\n",
    "latent_2d = pca.fit_transform(latent_map)\n",
    "\n",
    "#color=[\"C0\",\"C1\",\"C2\",\"C3\",\"C4\",\"C5\",\"C6\",\"C7\",\"C8\",\"C9\",\"C10\"]\n",
    "color=['#1f77b4', '#ff7f0e', '#2ca02c', '#d62728', '#9467bd', '#8c564b', '#e377c2', '#7f7f7f', '#bcbd22', '#17becf',\"#2fa36b\"]\n",
    "marks=[\"1\",\"2\",\"3\",\"4\",\"+\",\">\",\"<\",\"^\",\"v\",\"x\",\"d\"]\n",
    "\n",
    "s=[120]*5+[50]*6\n",
    "\n",
    "for i in range (121):\n",
    "    ax.scatter(x=i//11,\n",
    "                y=i%11,\n",
    "   #             zs=latent_2d.transpose()[2][i],\n",
    "                c=color[i//11], \n",
    "                s=s[i%11],\n",
    "                marker=marks[i%11])\n",
    "\n",
    "fig.show()\n",
    "\n"
   ]
  },
  {
   "cell_type": "markdown",
   "metadata": {},
   "source": [
    "**2) Positions in Latent Space**"
   ]
  },
  {
   "cell_type": "code",
   "execution_count": 57,
   "metadata": {
    "colab": {
     "base_uri": "https://localhost:8080/",
     "height": 268
    },
    "colab_type": "code",
    "id": "vK1qhgP_RHZ9",
    "outputId": "f8aeedd2-d00b-4eb1-d400-0f3a878e1725"
   },
   "outputs": [
    {
     "name": "stderr",
     "output_type": "stream",
     "text": [
      "/home/william/.local/lib/python3.6/site-packages/ipykernel_launcher.py:15: UserWarning: Matplotlib is currently using module://ipykernel.pylab.backend_inline, which is a non-GUI backend, so cannot show the figure.\n",
      "  from ipykernel import kernelapp as app\n"
     ]
    },
    {
     "data": {
      "image/png": "[encoded data removed]",
      "text/plain": [
       "<Figure size 432x288 with 1 Axes>"
      ]
     },
     "metadata": {},
     "output_type": "display_data"
    }
   ],
   "source": [
    "fig = plt.figure()\n",
    "ax = fig.add_subplot(111)#, projection='3d')\n",
    "s=[120]*5+[50]*6\n",
    "for i in range (121):\n",
    "    ax.scatter(x=latent_2d.transpose()[0][i],\n",
    "                y=latent_2d.transpose()[1][i],\n",
    "             #   zs=latent_2d.transpose()[2][i],\n",
    "                c=color[i//11], \n",
    "                s=s[i%11],\n",
    "                marker=marks[i%11])\n",
    " #   ax.set_xlim(-.6/1.4,.6/1.4)\n",
    "  #  ax.set_ylim(-.8/1.4,.8/1.4)\n",
    "  #  ax.set_zlim(-1./1.6,1./1.6)\n",
    "    #ax.view_init(elev=45, azim=45)\n",
    "fig.show()\n",
    "\n"
   ]
  },
  {
   "cell_type": "markdown",
   "metadata": {},
   "source": [
    "**3) Action representations**"
   ]
  },
  {
   "cell_type": "code",
   "execution_count": 58,
   "metadata": {
    "colab": {
     "base_uri": "https://localhost:8080/",
     "height": 737
    },
    "colab_type": "code",
    "id": "pwZgnVDdW43P",
    "outputId": "fb8f35f8-4b33-4270-d267-99f230ba8edc"
   },
   "outputs": [
    {
     "name": "stdout",
     "output_type": "stream",
     "text": [
      "tensor([[ 9.9579e-01,  4.8671e-02, -1.0400e-02, -7.7021e-02],\n",
      "        [ 1.8457e-04,  8.4638e-01,  5.7666e-02,  5.2944e-01],\n",
      "        [ 7.6437e-03, -3.2625e-02,  9.9784e-01, -5.6531e-02],\n",
      "        [ 9.1382e-02, -5.2934e-01,  2.9749e-02,  8.4295e-01]],\n",
      "       grad_fn=<MmBackward>)\n",
      "tensor([[ 0.9479,  0.3146, -0.0212,  0.0445],\n",
      "        [ 0.2891, -0.8983,  0.1785,  0.2786],\n",
      "        [-0.0129,  0.1309,  0.9733, -0.1882],\n",
      "        [ 0.1330, -0.2774, -0.1428, -0.9407]], grad_fn=<MmBackward>)\n",
      "tensor([[ 9.9586e-01, -2.6203e-04,  7.9329e-03,  9.0605e-02],\n",
      "        [ 4.8668e-02,  8.4621e-01, -3.2750e-02, -5.2961e-01],\n",
      "        [-1.0613e-02,  5.7657e-02,  9.9785e-01,  2.9444e-02],\n",
      "        [-7.6099e-02,  5.2972e-01, -5.6289e-02,  8.4288e-01]],\n",
      "       grad_fn=<MmBackward>)\n",
      "tensor([[ 0.9488,  0.2862, -0.0109,  0.1332],\n",
      "        [ 0.3117, -0.8996,  0.1303, -0.2767],\n",
      "        [-0.0222,  0.1774,  0.9734, -0.1434],\n",
      "        [ 0.0460,  0.2780, -0.1882, -0.9408]], grad_fn=<MmBackward>)\n",
      "tensor([[ 0.8455, -0.0672, -0.5283,  0.0378],\n",
      "        [ 0.0186,  0.9951, -0.0962,  0.0090],\n",
      "        [ 0.5310,  0.0713,  0.8435,  0.0373],\n",
      "        [-0.0521, -0.0091, -0.0106,  0.9985]], grad_fn=<MmBackward>)\n",
      "tensor([[-0.9077, -0.3227, -0.2603, -0.0643],\n",
      "        [-0.2779,  0.9401, -0.1976,  0.0043],\n",
      "        [ 0.2941, -0.1100, -0.9327,  0.1773],\n",
      "        [-0.1113, -0.0054,  0.1522,  0.9820]], grad_fn=<MmBackward>)\n",
      "tensor([[ 0.8456,  0.0190,  0.5309, -0.0523],\n",
      "        [-0.0673,  0.9952,  0.0707, -0.0089],\n",
      "        [-0.5281, -0.0957,  0.8437, -0.0101],\n",
      "        [ 0.0383,  0.0089,  0.0369,  0.9985]], grad_fn=<MmBackward>)\n",
      "tensor([[-0.9081, -0.2758,  0.2953, -0.1101],\n",
      "        [-0.3212,  0.9405, -0.1108, -0.0041],\n",
      "        [-0.2615, -0.1985, -0.9320,  0.1535],\n",
      "        [-0.0623,  0.0040,  0.1783,  0.9820]], grad_fn=<MmBackward>)\n"
     ]
    },
    {
     "data": {
      "image/png": "[encoded data removed]",
      "text/plain": [
       "<Figure size 800x150 with 4 Axes>"
      ]
     },
     "metadata": {},
     "output_type": "display_data"
    }
   ],
   "source": [
    "width=0.75\n",
    "\n",
    "test_folder=\"_data\"\n",
    "\n",
    "for rep in lat_env.action_reps:\n",
    "    print(rep.get_matrix())\n",
    "    print(torch.matrix_power(rep.get_matrix(), 5))\n",
    "rep_thetas = [rep.thetas.detach().numpy() for rep in lat_env.action_reps]\n",
    "\n",
    "plt_lim = max( 0.1, max([max(t) for t in rep_thetas])/(2*np.pi) )\n",
    "titles = [\"up\", \"down\", \"right\", \"left\"]\n",
    "\n",
    "with plt.style.context('seaborn-paper', after_reset=True):\n",
    "\n",
    "    fig, axs = plt.subplots(1, len(rep_thetas), figsize=(8, 1.5), gridspec_kw={\"wspace\":0.4})\n",
    "    \n",
    "    for i, thetas in enumerate(rep_thetas):\n",
    "        x = np.arange(len(thetas))\n",
    "        axs[i].bar(x - width/2, thetas/(2*np.pi), width, label='Rep {}'.format(i))\n",
    "        \n",
    "        axs[i].set_xticks(x-0.25)\n",
    "        axs[i].set_xticklabels([\"12\",\"13\",\"14\",\"23\",\"24\",\"34\"])\n",
    "        axs[i].set_ylabel(\"$ij$\")\n",
    "        \n",
    "        axs[i].set_ylim(-plt_lim,plt_lim)\n",
    "        \n",
    "        axs[i].set_title(titles[i])\n",
    "        \n",
    "    axs[0].set_ylabel(r\"$\\theta / 2\\pi$\", fontsize=11)\n",
    "    \n",
    "    fig_fname = os.path.join(test_folder, \"thetas\")\n",
    "\n",
    "    plt.savefig(fig_fname + \".pdf\", bbox_inches='tight')\n",
    "    plt.savefig(fig_fname + \".png\", bbox_inches='tight')"
   ]
  },
  {
   "cell_type": "markdown",
   "metadata": {
    "colab_type": "text",
    "id": "cF0nhDnbAeEW"
   },
   "source": [
    "## 5. Disentanglement\n",
    "\n",
    "***Some jargon***\n",
    "\n",
    "It's nice that it works, but the real point here is to try and learn a *disentangled* representation of the actions.\n",
    "\n",
    "Before considering how best to do this, we want to define a metric of 'disentanglement'.  We consider the evolution of an observable (latent) vector, $x \\in X$ ($z \\in Z$), under the element $g \\in G$ of the group of symmetries generating transformations of the object.  Then we are looking for a representation, $\\rho:G \\rightarrow GL(V)$, such that the transformation is linear in the latent space, i.e.\n",
    "\\begin{equation}\n",
    "    z^{\\prime} = \\rho(g) \\cdot z.\n",
    "\\end{equation}\n",
    "Note, in our case, the representations are the rotation matrices we learn.\n",
    "\n",
    "For this representation to be disentangled, it means that if there exists a subgroup decomposition of $G$\n",
    "\\begin{equation}\n",
    "    G = G_1 \\times G_2 \\times \\dots \\times G_n,\n",
    "\\end{equation}\n",
    "then we equivalently decompose the representation, $(\\rho, G)$, into subrepresentations:\n",
    "\\begin{equation}\n",
    "    V = V_1 \\oplus V_2 \\oplus \\dots \\oplus V_n\n",
    "\\end{equation}\n",
    "such that the restricted subrepresentations $(\\rho_{\\vert G_i}, V_i)_i$ are non-trivial, and the restricted subrepresentations $(\\rho_{\\vert G_i}, V_j)_{j \\neq i}$ are trivial.\n",
    "\n",
    "In our context, a GridWorld with 5 points in each dimension is represented by $G = C_5 \\times C_5$ (where $C_5$ is the cyclic group).  This is a subgroup of $\\mathrm{SO}(2) \\times \\mathrm{SO}(2)$, therefore we hope to find the disentangled representation of the actions (up, down, left, right) that corresponds to this.\n",
    "\n",
    "***Some practicalities***\n",
    "\n",
    "Our intuition is that the disentangled representation acts as the identity on as many dimensions as possible.  We could attempt to enforce this with some regularization during training.  Normal weight decay won't cut it, as that tries to reduce all weights, where as what we really want to do is have all *but one* of our thetas (which corresponds to the rotation/coupling of two dimensions) to be zero.\n",
    "\n",
    "**1. Entanglement regularisation**\n",
    "\n",
    "So for $m$ parameters, ${\\theta_1, \\dots, \\theta_m}$, we want to regularise with\n",
    "\\begin{equation}\n",
    "    \\sum_{i \\neq j} \\vert\\theta_i\\vert^2, \\mathrm{where\\ } \\theta_j {=} \\mathrm{max_k}({\\vert\\theta_k\\vert}).\n",
    "\\end{equation}\n",
    "We will also use this term as our metric of 'entanglement'."
   ]
  },
  {
   "cell_type": "code",
   "execution_count": 59,
   "metadata": {
    "colab": {
     "base_uri": "https://localhost:8080/",
     "height": 34
    },
    "colab_type": "code",
    "id": "BLYGBbwXAeEX",
    "outputId": "4e5f75cf-12bc-4e0f-a6fb-474e38ffebab"
   },
   "outputs": [
    {
     "data": {
      "text/plain": [
       "tensor(1.2500)"
      ]
     },
     "execution_count": 59,
     "metadata": {},
     "output_type": "execute_result"
    }
   ],
   "source": [
    "def calc_entanglement(params):\n",
    "    params = params.abs().pow(2)\n",
    "    return params.sum() - params.max()\n",
    "\n",
    "params = torch.FloatTensor([1,1,0.5,0,0])\n",
    "calc_entanglement(params)"
   ]
  },
  {
   "cell_type": "markdown",
   "metadata": {
    "colab_type": "text",
    "id": "VrVpZ-tIAeEb"
   },
   "source": [
    "### Training with regularization"
   ]
  },
  {
   "cell_type": "code",
   "execution_count": 60,
   "metadata": {
    "colab": {},
    "colab_type": "code",
    "id": "LwnEk9JNAeEc"
   },
   "outputs": [],
   "source": [
    "obs_env = GridWorld(dim = 5)\n",
    "lat_env = LatentWorld(dim = 4,\n",
    "                      n_actions = obs_env.action_space.n)\n",
    "decoder = Decoder(n_in = sum(lat_env.observation_space.shape),\n",
    "                  n_out = sum(obs_env.observation_space.shape),\n",
    "                  n_hid = [32])\n",
    "encoder = Encoder(n_in = sum(obs_env.observation_space.shape),\n",
    "                  n_out = sum(lat_env.observation_space.shape),\n",
    "                  n_hid = [32])\n",
    "\n",
    "optimizer_enc = optim.Adam(encoder.parameters(),\n",
    "                           lr=2e-2,\n",
    "                           weight_decay=0)\n",
    "\n",
    "optimizer_dec = optim.Adam(decoder.parameters(),\n",
    "                           lr=2e-2,\n",
    "                           weight_decay=0)\n",
    "\n",
    "optimizer_rep = optim.Adam(lat_env.get_representation_params(),\n",
    "                           lr=2e-2,\n",
    "                           weight_decay=0)\n",
    "\n",
    "losses = []\n",
    "entanglement = []"
   ]
  },
  {
   "cell_type": "code",
   "execution_count": 61,
   "metadata": {
    "colab": {
     "base_uri": "https://localhost:8080/",
     "height": 867
    },
    "colab_type": "code",
    "id": "9LGF3914AeEj",
    "outputId": "6529482b-0248-40e4-bedc-5433ddd2d9bb"
   },
   "outputs": [
    {
     "name": "stdout",
     "output_type": "stream",
     "text": [
      "iter 100 : loss=0.199 : entanglement=9.13e-04 : last 10 iters in 0.097s\n",
      "iter 200 : loss=0.215 : entanglement=2.20e-03 : last 10 iters in 0.165s\n",
      "iter 300 : loss=0.193 : entanglement=1.27e-02 : last 10 iters in 0.093s\n",
      "iter 400 : loss=0.200 : entanglement=4.60e-02 : last 10 iters in 0.110s\n",
      "iter 500 : loss=0.154 : entanglement=4.31e-02 : last 10 iters in 0.216s\n",
      "iter 600 : loss=0.155 : entanglement=1.46e-02 : last 10 iters in 0.112s\n",
      "iter 700 : loss=0.093 : entanglement=1.78e-02 : last 10 iters in 0.144s\n",
      "iter 800 : loss=0.036 : entanglement=1.52e-02 : last 10 iters in 0.166s\n",
      "iter 900 : loss=0.009 : entanglement=3.21e-03 : last 10 iters in 0.156s\n",
      "iter 1000 : loss=0.012 : entanglement=4.33e-03 : last 10 iters in 0.157s\n",
      "iter 1100 : loss=0.002 : entanglement=1.69e-04 : last 10 iters in 0.133s\n",
      "iter 1200 : loss=0.001 : entanglement=6.21e-05 : last 10 iters in 0.166s\n",
      "iter 1300 : loss=0.001 : entanglement=2.38e-05 : last 10 iters in 0.176s\n",
      "iter 1400 : loss=0.001 : entanglement=1.67e-05 : last 10 iters in 0.187s\n",
      "iter 1500 : loss=0.001 : entanglement=1.18e-05 : last 10 iters in 0.111s\n",
      "iter 1600 : loss=0.000 : entanglement=6.62e-06 : last 10 iters in 0.159s\n",
      "iter 1700 : loss=0.000 : entanglement=2.98e-06 : last 10 iters in 0.152s\n",
      "iter 1800 : loss=0.000 : entanglement=3.46e-06 : last 10 iters in 0.162s\n",
      "iter 1900 : loss=0.000 : entanglement=3.16e-06 : last 10 iters in 0.100s\n",
      "iter 2000 : loss=0.000 : entanglement=1.19e-06 : last 10 iters in 0.100s\n",
      "iter 2100 : loss=0.000 : entanglement=1.55e-06 : last 10 iters in 0.101s\n",
      "iter 2200 : loss=0.000 : entanglement=1.25e-06 : last 10 iters in 0.114s\n",
      "iter 2300 : loss=0.000 : entanglement=1.73e-06 : last 10 iters in 0.105s\n",
      "iter 2400 : loss=0.000 : entanglement=9.83e-07 : last 10 iters in 0.099s\n",
      "iter 2500 : loss=0.000 : entanglement=1.37e-06 : last 10 iters in 0.138s\n",
      "iter 2600 : loss=0.000 : entanglement=6.26e-07 : last 10 iters in 0.116s\n",
      "iter 2700 : loss=0.000 : entanglement=3.28e-07 : last 10 iters in 0.163s\n",
      "iter 2800 : loss=0.000 : entanglement=7.15e-07 : last 10 iters in 0.198s\n",
      "iter 2900 : loss=0.000 : entanglement=6.26e-07 : last 10 iters in 0.119s\n",
      "iter 3000 : loss=0.000 : entanglement=3.58e-07 : last 10 iters in 0.109s\n",
      "iter 3100 : loss=0.000 : entanglement=5.66e-07 : last 10 iters in 0.191s\n",
      "iter 3200 : loss=0.000 : entanglement=2.68e-07 : last 10 iters in 0.107s\n",
      "iter 3300 : loss=0.000 : entanglement=3.58e-07 : last 10 iters in 0.117s\n",
      "iter 3400 : loss=0.000 : entanglement=3.58e-07 : last 10 iters in 0.119s\n",
      "iter 3500 : loss=0.000 : entanglement=3.58e-07 : last 10 iters in 0.135s\n",
      "iter 3600 : loss=0.000 : entanglement=1.49e-07 : last 10 iters in 0.149s\n",
      "iter 3700 : loss=0.000 : entanglement=1.79e-07 : last 10 iters in 0.099s\n",
      "iter 3800 : loss=0.000 : entanglement=1.79e-07 : last 10 iters in 0.121s\n",
      "iter 3900 : loss=0.000 : entanglement=2.38e-07 : last 10 iters in 0.116s\n",
      "iter 4000 : loss=0.000 : entanglement=1.49e-07 : last 10 iters in 0.104s\n",
      "iter 4100 : loss=0.000 : entanglement=2.98e-07 : last 10 iters in 0.106s\n",
      "iter 4200 : loss=0.000 : entanglement=2.68e-07 : last 10 iters in 0.110s\n",
      "iter 4300 : loss=0.000 : entanglement=1.49e-07 : last 10 iters in 0.142s\n",
      "iter 4400 : loss=0.000 : entanglement=2.09e-07 : last 10 iters in 0.111s\n",
      "iter 4500 : loss=0.000 : entanglement=8.94e-08 : last 10 iters in 0.106s\n",
      "iter 4600 : loss=0.000 : entanglement=1.19e-07 : last 10 iters in 0.096s\n",
      "iter 4700 : loss=0.000 : entanglement=8.94e-08 : last 10 iters in 0.094s\n",
      "iter 4800 : loss=0.000 : entanglement=5.96e-08 : last 10 iters in 0.118s\n",
      "iter 4900 : loss=0.000 : entanglement=8.94e-08 : last 10 iters in 0.106s\n",
      "iter 5000 : loss=0.000 : entanglement=2.98e-08 : last 10 iters in 0.114s\n"
     ]
    }
   ],
   "source": [
    "n_sgd_steps = 5000\n",
    "ep_steps = 5\n",
    "batch_eps = 2\n",
    "\n",
    "i = 0\n",
    "\n",
    "t_start = time.time()\n",
    "\n",
    "temp = 0\n",
    "\n",
    "while i < n_sgd_steps:\n",
    "    \n",
    "    loss = torch.zeros(1)\n",
    "    \n",
    "    for _ in range(batch_eps):\n",
    "        t_ep = -1\n",
    "        while t_ep < ep_steps:\n",
    "            if t_ep == -1:\n",
    "                obs_x = obs_env.reset()\n",
    "                obs_z = lat_env.reset(encoder(obs_x))\n",
    "            else:\n",
    "                action = obs_env.action_space.sample().item()\n",
    "                obs_x = obs_env.step(action)\n",
    "                obs_z = lat_env.step(action)\n",
    "            \n",
    "            t_ep += 1         \n",
    "            \n",
    "            obs_x_recon = decoder(obs_z)\n",
    "            #(obs_x_recon==obs_x_recon.max()).float()\n",
    "\n",
    "            loss += F.binary_cross_entropy(obs_x_recon, obs_x)\n",
    "        \n",
    "    loss /= (ep_steps * batch_eps)\n",
    "    raw_loss = loss.item()\n",
    "    \n",
    "    reg_loss = sum([calc_entanglement(r.thetas) for r in lat_env.action_reps])/4\n",
    "    \n",
    "    loss += reg_loss * 4e-2\n",
    "                        \n",
    "    losses.append(raw_loss)\n",
    "    entanglement.append(reg_loss.item())\n",
    "    \n",
    "    optimizer_dec.zero_grad()\n",
    "    optimizer_enc.zero_grad()\n",
    "    optimizer_rep.zero_grad()\n",
    "    loss.backward()\n",
    "    optimizer_enc.step()\n",
    "    optimizer_dec.step()\n",
    "    optimizer_rep.step()\n",
    "        \n",
    "    # Remember to clear the cached action representations after we update the parameters!\n",
    "    lat_env.clear_representations()\n",
    "\n",
    "    i+=1\n",
    "    \n",
    "    if i%10==0:\n",
    "        print(\"iter {} : loss={:.3f} : entanglement={:.2e} : last 10 iters in {:.3f}s\".format(\n",
    "            i, raw_loss, reg_loss.item(), time.time() - t_start\n",
    "            ), end=\"\\r\" if i%100 else \"\\n\")\n",
    "        t_start = time.time()"
   ]
  },
  {
   "cell_type": "code",
   "execution_count": 62,
   "metadata": {
    "colab": {
     "base_uri": "https://localhost:8080/",
     "height": 68
    },
    "colab_type": "code",
    "id": "PxTx319iAeEl",
    "outputId": "8f25957a-8604-486e-e465-431b72153b04"
   },
   "outputs": [
    {
     "name": "stdout",
     "output_type": "stream",
     "text": [
      "created dir:  _data/decoder_only/ent_reg_1e-2_orthNorm_reg_1e-2_v10\n",
      "created dir:  _data/decoder_only/ent_reg_1e-2_orthNorm_reg_1e-2_v10/train\n",
      "created dir:  _data/decoder_only/ent_reg_1e-2_orthNorm_reg_1e-2_v10/test\n"
     ]
    }
   ],
   "source": [
    "exp_name = \"ent_reg_1e-2_orthNorm_reg_1e-2_v10\"\n",
    "# exp_name = \"testing\"\n",
    "\n",
    "save_folder = os.path.join(\"_data/decoder_only\", exp_name)\n",
    "train_folder = os.path.join(save_folder,\"train\")\n",
    "test_folder = os.path.join(save_folder,\"test\")\n",
    "\n",
    "mk_dir(save_folder)\n",
    "mk_dir(train_folder)\n",
    "mk_dir(test_folder)"
   ]
  },
  {
   "cell_type": "markdown",
   "metadata": {},
   "source": [
    "**Show training curves**"
   ]
  },
  {
   "cell_type": "code",
   "execution_count": 63,
   "metadata": {
    "colab": {
     "base_uri": "https://localhost:8080/",
     "height": 270
    },
    "colab_type": "code",
    "id": "6Uvlbf2RAeEn",
    "outputId": "3f9ca5e8-f028-41d3-b1ee-75cb4010b9cc"
   },
   "outputs": [
    {
     "data": {
      "image/png": "[encoded data removed]",
      "text/plain": [
       "<Figure size 1000x250 with 2 Axes>"
      ]
     },
     "metadata": {},
     "output_type": "display_data"
    }
   ],
   "source": [
    "with plt.style.context('seaborn-paper', after_reset=True):\n",
    "\n",
    "    fig, (ax1, ax2) = plt.subplots(1, 2, figsize=(10, 2.5), gridspec_kw={\"wspace\":0.3})\n",
    "\n",
    "    window = 25\n",
    "    avg_mask = np.ones(window) / window\n",
    "\n",
    "    ax1.plot(np.convolve(range(len(losses)), avg_mask, 'valid'),\n",
    "             np.convolve(np.log(losses), avg_mask, 'valid'),\n",
    "             linewidth=0.75,\n",
    "             alpha=0.8)\n",
    "#     ax1.set_yscale(\"log\")\n",
    "\n",
    "    ax1.set_xlabel(\"Num. parameter updates\")\n",
    "    ax1.set_ylabel(\"Log Loss\")\n",
    "    \n",
    "    ax2.plot(np.convolve(range(len(entanglement)), avg_mask, 'valid'),\n",
    "             np.convolve(entanglement, avg_mask, 'valid'),\n",
    "             linewidth=0.75,\n",
    "             alpha=0.8)\n",
    "    ax2.set_yscale(\"log\")\n",
    "\n",
    "    ax2.set_xlabel(\"Num. parameter updates\")\n",
    "    ax2.set_ylabel(\"Entanglement\")\n",
    "    \n",
    "    fig_fname = os.path.join(train_folder, \"training_curves\")\n",
    "    plt.savefig(fig_fname + \".pdf\", bbox_inches='tight')\n",
    "    plt.savefig(fig_fname + \".png\", bbox_inches='tight')"
   ]
  },
  {
   "cell_type": "code",
   "execution_count": 64,
   "metadata": {
    "colab": {},
    "colab_type": "code",
    "id": "gG_YO_G8AeEp"
   },
   "outputs": [],
   "source": [
    "torch.save(decoder.state_dict(), os.path.join(save_folder,\"decoder.pth\"))\n",
    "rep_thetas = [rep.thetas for rep in lat_env.action_reps]\n",
    "torch.save(rep_thetas, os.path.join(save_folder,\"representations.pth\"))\n",
    "torch.save(optimizer_dec.state_dict(), os.path.join(train_folder,\"optimizer_dec.pth\"))\n",
    "torch.save(optimizer_rep.state_dict(), os.path.join(train_folder,\"optimizer_rep.pth\"))"
   ]
  },
  {
   "cell_type": "markdown",
   "metadata": {
    "colab_type": "text",
    "id": "EhcS12uRAeEq"
   },
   "source": [
    "### Testing: action representations"
   ]
  },
  {
   "cell_type": "code",
   "execution_count": 65,
   "metadata": {
    "colab": {
     "base_uri": "https://localhost:8080/",
     "height": 1000
    },
    "colab_type": "code",
    "id": "rQ9RFAnqAeEr",
    "outputId": "978d622d-6701-44a9-eb32-cb88383c6c44"
   },
   "outputs": [
    {
     "name": "stdout",
     "output_type": "stream",
     "text": [
      "tensor([[ 1.0000e+00, -3.5087e-06,  1.9758e-05, -2.0835e-04],\n",
      "        [ 3.5050e-06,  1.0000e+00,  1.2315e-06, -1.7730e-05],\n",
      "        [ 1.9206e-04,  1.6482e-05,  3.0882e-01,  9.5112e-01],\n",
      "        [ 8.3135e-05,  6.6463e-06, -9.5112e-01,  3.0882e-01]],\n",
      "       grad_fn=<MmBackward>)\n",
      "tensor([[ 1.0000e+00, -1.7534e-05, -9.4384e-08, -1.5931e-07],\n",
      "        [ 1.7534e-05,  1.0000e+00, -5.6509e-09, -1.4922e-08],\n",
      "        [ 9.4558e-08,  5.6586e-09,  1.0000e+00,  1.0403e-03],\n",
      "        [ 1.5922e-07,  1.4915e-08, -1.0403e-03,  1.0000e+00]],\n",
      "       grad_fn=<MmBackward>)\n",
      "tensor([[ 1.0000e+00, -5.7681e-05,  1.4653e-04,  9.0537e-05],\n",
      "        [ 5.7667e-05,  1.0000e+00, -3.5167e-06,  1.6471e-04],\n",
      "        [ 4.0847e-05,  1.5774e-04,  3.0895e-01, -9.5108e-01],\n",
      "        [-1.6734e-04, -4.7534e-05,  9.5108e-01,  3.0895e-01]],\n",
      "       grad_fn=<MmBackward>)\n",
      "tensor([[ 1.0000e+00, -2.8829e-04, -1.1642e-08,  2.5597e-08],\n",
      "        [ 2.8829e-04,  1.0000e+00,  7.7860e-09,  2.5170e-08],\n",
      "        [ 1.1671e-08, -7.7921e-09,  1.0000e+00, -3.6907e-04],\n",
      "        [-2.5599e-08, -2.5168e-08,  3.6910e-04,  1.0000e+00]],\n",
      "       grad_fn=<MmBackward>)\n",
      "tensor([[ 3.0929e-01,  9.5097e-01, -2.9954e-04,  1.2358e-04],\n",
      "        [-9.5097e-01,  3.0929e-01,  4.7471e-06, -4.9535e-05],\n",
      "        [ 9.7169e-05,  2.8340e-04,  1.0000e+00, -1.0684e-04],\n",
      "        [-8.5317e-05, -1.0217e-04,  1.0688e-04,  1.0000e+00]],\n",
      "       grad_fn=<MmBackward>)\n",
      "tensor([[ 1.0000e+00, -1.4344e-03,  3.1386e-07, -7.9219e-08],\n",
      "        [ 1.4344e-03,  1.0000e+00,  1.5159e-07, -1.5127e-07],\n",
      "        [-3.1409e-07, -1.5129e-07,  1.0000e+00, -5.3435e-04],\n",
      "        [ 7.9257e-08,  1.5110e-07,  5.3435e-04,  1.0000e+00]],\n",
      "       grad_fn=<MmBackward>)\n",
      "tensor([[ 3.0911e-01, -9.5103e-01, -8.9681e-05, -1.3327e-04],\n",
      "        [ 9.5103e-01,  3.0911e-01, -7.1416e-06,  2.3383e-05],\n",
      "        [ 3.4516e-05, -8.3097e-05,  1.0000e+00,  1.1504e-04],\n",
      "        [ 1.8955e-05, -1.3397e-04, -1.1505e-04,  1.0000e+00]],\n",
      "       grad_fn=<MmBackward>)\n",
      "tensor([[ 1.0000e+00,  5.0643e-04,  8.0647e-08,  1.7564e-08],\n",
      "        [-5.0643e-04,  1.0000e+00,  2.5804e-08, -7.9481e-08],\n",
      "        [-8.0661e-08, -2.5826e-08,  1.0000e+00,  5.7520e-04],\n",
      "        [-1.7590e-08,  7.9448e-08, -5.7520e-04,  1.0000e+00]],\n",
      "       grad_fn=<MmBackward>)\n"
     ]
    },
    {
     "data": {
      "image/png": "[encoded data removed]",
      "text/plain": [
       "<Figure size 1500x300 with 4 Axes>"
      ]
     },
     "metadata": {},
     "output_type": "display_data"
    }
   ],
   "source": [
    "width=0.5\n",
    "\n",
    "rep_thetas = [rep.thetas.detach().numpy() for rep in lat_env.action_reps]\n",
    "\n",
    "for rep in lat_env.action_reps:\n",
    "    print(rep.get_matrix())\n",
    "    print(torch.matrix_power(rep.get_matrix(), 5))\n",
    "\n",
    "plt_lim = max( 0.22, max([max(t) for t in rep_thetas])/(2*np.pi) )\n",
    "titles = [\"up\", \"down\", \"right\", \"left\"]\n",
    "\n",
    "with plt.style.context('seaborn-paper', after_reset=True):\n",
    "\n",
    "    fig, axs = plt.subplots(1, len(rep_thetas), figsize=(15, 3), gridspec_kw={\"wspace\":0.4})\n",
    "    \n",
    "    for i, thetas in enumerate(rep_thetas):\n",
    "        x = np.arange(len(thetas))\n",
    "        axs[i].bar(x - width/2, thetas/(2*np.pi), width, label='Rep {}'.format(i))\n",
    "        axs[i].hlines((0.2,-0.2), -2., 7., linestyles=\"dashed\")\n",
    "        axs[i].hlines(0., -2., 7.)\n",
    "        axs[i].set_xticks(x-0.25)\n",
    "        axs[i].set_xticklabels([\"12\",\"13\",\"14\",\"23\",\"24\",\"34\"], fontsize = 15)\n",
    "        axs[i].set_xlabel(\"$ij$\", fontsize = 15)\n",
    "        \n",
    "        axs[i].set_ylim(-plt_lim,plt_lim)\n",
    "        axs[i].set_xlim(-.75, 5.75)\n",
    "        axs[i].set_title(titles[i], fontsize = 15)\n",
    "        \n",
    "        axs[i].tick_params(labelsize=15)\n",
    "\n",
    "    axs[0].set_ylabel(r\"$\\theta / 2\\pi$\", fontsize = 15)\n",
    "    \n",
    "    fig_fname = os.path.join(test_folder, \"thetas\")\n",
    "\n",
    "    plt.savefig(fig_fname + \".pdf\", bbox_inches='tight')\n",
    "    plt.savefig(fig_fname + \".png\", bbox_inches='tight')"
   ]
  },
  {
   "cell_type": "markdown",
   "metadata": {},
   "source": [
    "**Show predictions made by trained network with disentangled representations**"
   ]
  },
  {
   "cell_type": "code",
   "execution_count": 66,
   "metadata": {
    "colab": {
     "base_uri": "https://localhost:8080/",
     "height": 277
    },
    "colab_type": "code",
    "id": "VCMbk93JAeEu",
    "outputId": "3a29efd8-d454-44a1-db9d-c7bb505d2bbc"
   },
   "outputs": [
    {
     "data": {
      "image/png": "[encoded data removed]",
      "text/plain": [
       "<Figure size 432x288 with 2 Axes>"
      ]
     },
     "metadata": {},
     "output_type": "display_data"
    }
   ],
   "source": [
    "def plot_state(obs, ax, one_hot=True):\n",
    "    if one_hot:\n",
    "        obs=(obs == obs.max())\n",
    "    ax.pcolormesh(obs.reshape(obs_env.dim, obs_env.dim), edgecolors='gray', linewidth=2)\n",
    "    ax.set_aspect('equal')\n",
    "    ax.set_xticks([])\n",
    "    ax.set_yticks([])\n",
    "    \n",
    "    return ax\n",
    "    \n",
    "n_steps = 10\n",
    "\n",
    "fig, (ax1,ax2) = plt.subplots(2, 1)\n",
    "\n",
    "ax1.set_title(\"Ground truth\")\n",
    "ax2.set_title(\"Reconstruction\")\n",
    "\n",
    "for i in range(n_steps+1):\n",
    "    \n",
    "    if i==0:\n",
    "        action = \"N\\A\"\n",
    "        obs_x = obs_env.reset()\n",
    "        obs_z = lat_env.reset(encoder(obs_x))\n",
    "    else:\n",
    "        action = obs_env.action_space.sample().item()\n",
    "        obs_x = obs_env.step(action)\n",
    "        obs_z = lat_env.step(action)\n",
    "        \n",
    "    obs_x_recon = decoder(obs_z)\n",
    "    \n",
    "    fig.suptitle('step {} : last action = {}'.format(i, action), fontsize=16)\n",
    "    \n",
    "    plot_state(obs_x.detach().numpy(),ax1)\n",
    "    plot_state(obs_x_recon.detach().numpy(),ax2, one_hot=False)\n",
    "    \n",
    "    fig_fname = os.path.join(test_folder, \"step_{}\".format(i))\n",
    "\n",
    "    plt.savefig(fig_fname + \".pdf\", bbox_inches='tight')\n",
    "    plt.savefig(fig_fname + \".png\", bbox_inches='tight')\n",
    "    \n",
    "    display.clear_output(wait=True)\n",
    "    display.display(plt.gcf())\n",
    "    time.sleep(0.5)\n",
    "    \n",
    "display.clear_output(wait=False)"
   ]
  },
  {
   "cell_type": "code",
   "execution_count": null,
   "metadata": {},
   "outputs": [],
   "source": []
  }
 ],
 "metadata": {
  "colab": {
   "name": "grid-world.ipynb",
   "provenance": []
  },
  "kernelspec": {
   "display_name": "Python 3",
   "language": "python",
   "name": "python3"
  },
  "language_info": {
   "codemirror_mode": {
    "name": "ipython",
    "version": 3
   },
   "file_extension": ".py",
   "mimetype": "text/x-python",
   "name": "python",
   "nbconvert_exporter": "python",
   "pygments_lexer": "ipython3",
   "version": "3.6.9"
  }
 },
 "nbformat": 4,
 "nbformat_minor": 1
}
