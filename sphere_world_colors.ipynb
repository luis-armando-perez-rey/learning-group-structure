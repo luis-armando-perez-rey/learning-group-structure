{
 "cells": [
  {
   "cell_type": "markdown",
   "metadata": {
    "colab_type": "text",
    "id": "vg4cvdelLfu4"
   },
   "source": [
    "# Learning disentangled representations in 'sphere-world' with an object that can also change color"
   ]
  },
  {
   "cell_type": "markdown",
   "metadata": {
    "colab_type": "text",
    "id": "tCrh9S0cLfu7"
   },
   "source": [
    "## 1. Preamble"
   ]
  },
  {
   "cell_type": "code",
   "execution_count": 1,
   "metadata": {
    "colab": {
     "base_uri": "https://localhost:8080/",
     "height": 34
    },
    "colab_type": "code",
    "id": "O3DCxPvjLfu7",
    "outputId": "8391d6ae-f483-48e9-ec72-65b7038651de"
   },
   "outputs": [
    {
     "name": "stdout",
     "output_type": "stream",
     "text": [
      "Set seaborn plotting defaults.\n"
     ]
    }
   ],
   "source": [
    "import os\n",
    "\n",
    "import torch\n",
    "import torch.nn as nn\n",
    "import torch.nn.functional as F\n",
    "import torch.optim as optim\n",
    "import numpy as np\n",
    "import matplotlib.pyplot as plt\n",
    "import random\n",
    "\n",
    "import time\n",
    "from IPython import display\n",
    "\n",
    "try:\n",
    "    import seaborn as sns\n",
    "    sns.set()\n",
    "    print(\"Set seaborn plotting defaults.\")\n",
    "except:\n",
    "    print(\"seaborn not found.\")"
   ]
  },
  {
   "cell_type": "code",
   "execution_count": 2,
   "metadata": {
    "colab": {
     "base_uri": "https://localhost:8080/",
     "height": 34
    },
    "colab_type": "code",
    "id": "vZT8DJuOLfvA",
    "outputId": "8e487e5b-35be-4cee-962f-3c9137523b9b"
   },
   "outputs": [
    {
     "name": "stdout",
     "output_type": "stream",
     "text": [
      "created dir:  _data/\n"
     ]
    }
   ],
   "source": [
    "def mk_dir(export_dir, quite=False):\n",
    "    if not os.path.exists(export_dir):\n",
    "            try:\n",
    "                os.makedirs(export_dir)\n",
    "                print('created dir: ', export_dir)\n",
    "            except OSError as exc: # Guard against race condition\n",
    "                 if exc.errno != exc.errno.EEXIST:\n",
    "                    raise\n",
    "            except Exception:\n",
    "                pass\n",
    "    else:\n",
    "        print('dir already exists: ', export_dir)\n",
    "\n",
    "mk_dir(\"_data/\")"
   ]
  },
  {
   "cell_type": "markdown",
   "metadata": {
    "colab_type": "text",
    "id": "K6pWc-O2LfvE"
   },
   "source": [
    "## 2. Defining objects"
   ]
  },
  {
   "cell_type": "markdown",
   "metadata": {
    "colab_type": "text",
    "id": "a9T6w_ulLfvF"
   },
   "source": [
    "### SphereWorld environment\n",
    "\n",
    "We use a cubic 3D world in which a ball evolves on a sphere. Observations are a 3-dimensional tensor with values 0 except at the voxel occupied by the ball which has value 1. When the ball is not at the center of the voxel (which is most of the time) its density is distributed around neighboring voxels.\n",
    "\n",
    "The ball can also \"change color\"; in our implementation color is encoded as the numerical value of a voxel in a corner; we note that other ways of encoding color could be used.\n",
    "\n",
    "Actions are discrete rotations around the three axes and changes in color."
   ]
  },
  {
   "cell_type": "code",
   "execution_count": 3,
   "metadata": {
    "colab": {},
    "colab_type": "code",
    "id": "eKNwZHkdLfvG"
   },
   "outputs": [],
   "source": [
    "class SphereWorld():\n",
    "    \n",
    "    class action_space():\n",
    "        def __init__(self,n_actions):\n",
    "            self.n = n_actions\n",
    "            \n",
    "        def sample(self, k=1):\n",
    "            return torch.randint(0,self.n,(k,))       \n",
    "\n",
    "    class observation_space():\n",
    "        def __init__(self,n_features):\n",
    "            self.shape = [n_features]\n",
    "    \n",
    "    def __init__(self,dim=5,num_colors=5,radius=3.5):\n",
    "\n",
    "        self.size = dim\n",
    "        self.num_colors = num_colors\n",
    "        self.radius = radius\n",
    "        self.action_space = self.action_space(8)\n",
    "        self.observation_space = self.observation_space((2*dim)**3)\n",
    "        \n",
    "        self.reset()\n",
    "        \n",
    "    def reset(self):\n",
    "\n",
    "        self.theta = random.uniform(0, np.pi)\n",
    "        self.phi = random.uniform(0, np.pi*2)\n",
    "        self.color = random.randrange(self.num_colors)\n",
    "\n",
    "        self.ball_coordinates = [self.radius*np.sin(self.theta)*np.cos(self.phi), \\\n",
    "                                 self.radius*np.sin(self.theta)*np.sin(self.phi), \\\n",
    "                                 self.radius*np.cos(self.theta)]  \n",
    "\n",
    "        self.state = self.get_state()\n",
    "        return self.get_observation()\n",
    "    \n",
    "    def get_state(self, ball_coordinates=None):\n",
    "        if ball_coordinates is None:\n",
    "            ball_coordinates=self.ball_coordinates\n",
    "\n",
    "        state = torch.zeros((2*self.size, 2*self.size, 2*self.size))\n",
    "\n",
    "        ball_low_x = ball_coordinates[0] + self.size - .5\n",
    "        ball_low_y = ball_coordinates[1] + self.size - .5\n",
    "        ball_low_z = ball_coordinates[2] + self.size - .5\n",
    "\n",
    "        fill_x = (int(ball_low_x + 1) - ball_low_x)\n",
    "        fill_y = (int(ball_low_y + 1) - ball_low_y)\n",
    "        fill_z = (int(ball_low_z + 1) - ball_low_z)\n",
    "\n",
    "        state[int(ball_low_x), int(ball_low_y), int(ball_low_z)] \\\n",
    "        = fill_x * fill_y * fill_z\n",
    "        state[(int(ball_low_x) + 1), int(ball_low_y), int(ball_low_z)] \\\n",
    "        = (1 - fill_x) * fill_y * fill_z\n",
    "        state[int(ball_low_x), (int(ball_low_y) + 1), int(ball_low_z)] \\\n",
    "        = fill_x * (1 - fill_y) * fill_z\n",
    "        state[(int(ball_low_x) + 1), (int(ball_low_y) +1), int(ball_low_z)] \\\n",
    "        = (1 - fill_x) * (1 - fill_y) * fill_z\n",
    "        state[int(ball_low_x), int(ball_low_y), int(ball_low_z) + 1] \\\n",
    "        = fill_x * fill_y * (1 - fill_z)\n",
    "        state[(int(ball_low_x) + 1), int(ball_low_y), int(ball_low_z) + 1] \\\n",
    "        = (1 - fill_x) * fill_y * (1 - fill_z)\n",
    "        state[int(ball_low_x), (int(ball_low_y) + 1), int(ball_low_z) + 1] \\\n",
    "        = fill_x * (1 - fill_y) * (1 - fill_z)\n",
    "        state[(int(ball_low_x) + 1), (int(ball_low_y) +1), int(ball_low_z) + 1] \\\n",
    "        = (1 - fill_x) * (1 - fill_y) * (1 - fill_z)\n",
    "\n",
    "        state[0, 0, 0] = self.color / (self.num_colors - 1)\n",
    "\n",
    "        self.state = state\n",
    "        return self.state      \n",
    "\n",
    "    def get_observation(self):\n",
    "        return self.state.flatten()\n",
    "\n",
    "    def step(self, action, angle):\n",
    "\n",
    "        ball_coordinates = self.ball_coordinates\n",
    "\n",
    "        if action == 0 or action == 1:\n",
    "            if action == 1:\n",
    "                angle = - angle\n",
    "            new_ball_coordinates = [ball_coordinates[0]*np.cos(angle) + ball_coordinates[1]*np.sin(angle), \\\n",
    "                                    - ball_coordinates[0]*np.sin(angle) + ball_coordinates[1]*np.cos(angle), \\\n",
    "                                    ball_coordinates[2]]\n",
    "        elif action == 2 or action == 3:\n",
    "            if action == 3:\n",
    "                angle = -angle\n",
    "            new_ball_coordinates = [ball_coordinates[0]*np.cos(angle) + ball_coordinates[2]*np.sin(angle), \\\n",
    "                                    ball_coordinates[1], \\\n",
    "                                    - ball_coordinates[0]*np.sin(angle) + ball_coordinates[2]*np.cos(angle)]\n",
    "        elif action == 4 or action == 5:\n",
    "            if action == 5:\n",
    "                angle = -angle\n",
    "            new_ball_coordinates = [ball_coordinates[0], \\\n",
    "                                    ball_coordinates[1]*np.cos(angle) + ball_coordinates[2]*np.sin(angle), \\\n",
    "                                    - ball_coordinates[1]*np.sin(angle) + ball_coordinates[2]*np.cos(angle)]\n",
    "        elif action == 6 or action == 7:\n",
    "            if action == 6:\n",
    "                self.color = (self.color + 1) % self.num_colors\n",
    "            if action == 7:\n",
    "                self.color = (self.color - 1) % self.num_colors\n",
    "            new_ball_coordinates = ball_coordinates\n",
    "        else:\n",
    "            raise Exception(\"INVALID ACTION\")\n",
    "\n",
    "        self.ball_coordinates = new_ball_coordinates\n",
    "        self.state = self.get_state()\n",
    "        return self.get_observation()"
   ]
  },
  {
   "cell_type": "markdown",
   "metadata": {},
   "source": [
    "Show observations from the sphere world"
   ]
  },
  {
   "cell_type": "code",
   "execution_count": 4,
   "metadata": {
    "colab": {
     "base_uri": "https://localhost:8080/",
     "height": 680
    },
    "colab_type": "code",
    "id": "nJzVluJvLfvJ",
    "outputId": "9a18f8e1-d683-4f72-f585-b8328b25ba95"
   },
   "outputs": [
    {
     "name": "stdout",
     "output_type": "stream",
     "text": [
      "7\n",
      "7\n",
      "7\n",
      "7\n",
      "7\n"
     ]
    },
    {
     "data": {
      "image/png": "[encoded data removed]",
      "text/plain": [
       "<Figure size 2160x720 with 18 Axes>"
      ]
     },
     "metadata": {},
     "output_type": "display_data"
    }
   ],
   "source": [
    "def plot_state(state, ax):\n",
    "    ax[0].pcolormesh(state.sum(axis=0), edgecolors='gray', \\\n",
    "                     linewidth=2, cmap=colors[round(state[0,0,0].item()*4)])\n",
    "    ax[0].set_aspect(\"equal\")\n",
    "    ax[0].set_xticks([])\n",
    "    ax[0].set_yticks([])\n",
    "\n",
    "    ax[1].pcolormesh(state.sum(axis=1), edgecolors='gray', \\\n",
    "                     linewidth=2, cmap=colors[round(state[0,0,0].item()*4)])\n",
    "    ax[1].set_aspect(\"equal\")\n",
    "    ax[1].set_xticks([])\n",
    "    ax[1].set_yticks([])\n",
    "\n",
    "    ax[2].pcolormesh(state.sum(axis=2), edgecolors='gray', \\\n",
    "                     linewidth=2, cmap=colors[round(state[0,0,0].item()*4)])\n",
    "    ax[2].set_aspect(\"equal\")\n",
    "    ax[2].set_xticks([])\n",
    "    ax[2].set_yticks([])\n",
    "    \n",
    "    return ax\n",
    "    \n",
    "n_steps = 5\n",
    "\n",
    "env = SphereWorld()\n",
    "colors = ['prism', 'ocean', 'gist_earth', 'terrain', 'jet']\n",
    "fig, axs = plt.subplots(3, n_steps+1, figsize=(30, 10))\n",
    "\n",
    "plot_state(env.state,axs[:,0])\n",
    "\n",
    "for i in range(n_steps):\n",
    "    action = 7\n",
    "    print(action)\n",
    "    env.step(action, 2*np.pi/5)\n",
    "    plot_state(env.state,axs[:,i+1])"
   ]
  },
  {
   "cell_type": "markdown",
   "metadata": {
    "colab_type": "text",
    "id": "d-YbQlBeLfvL"
   },
   "source": [
    "### Latent space\n",
    "\n",
    "**Encoder/Decoder**\n",
    "\n",
    "Now we want to learn to represent this environment in some latent space (which we, for now, simply assume to be 5-dimensional).  We will require both an encoder and decoder."
   ]
  },
  {
   "cell_type": "code",
   "execution_count": 5,
   "metadata": {
    "colab": {},
    "colab_type": "code",
    "id": "mLgin2GfLfvM"
   },
   "outputs": [],
   "source": [
    "class Coder(nn.Module):\n",
    "\n",
    "    def __init__(self, n_in, n_out, n_hid=[16], output_activation=nn.Sigmoid):\n",
    "        super().__init__()\n",
    "        \n",
    "        if type(n_hid) != list:\n",
    "            n_hid = [n_hid]\n",
    "        n_layers = [n_in] + n_hid + [n_out]\n",
    "\n",
    "        self.layers = []\n",
    "        for i_layer, (n1, n2) in enumerate(zip(n_layers, n_layers[1:])):\n",
    "            mods = [nn.Linear(n1, n2, bias=True)]\n",
    "            act_fn = nn.ReLU if i_layer < len(n_layers) - 2 else output_activation\n",
    "            if act_fn is not None:\n",
    "                mods.append(act_fn())\n",
    "            layer = nn.Sequential(*mods)\n",
    "            self.layers.append(layer)\n",
    "\n",
    "        self.layers = nn.ModuleList(self.layers)\n",
    "\n",
    "    def forward(self, x):\n",
    "        for layer in self.layers:\n",
    "            x = layer(x)\n",
    "        return x\n",
    "\n",
    "class nnNorm(nn.Module):\n",
    "    \n",
    "    def __init__(self, dim=-1):\n",
    "        super().__init__()\n",
    "        self.dim=dim\n",
    "        \n",
    "    def forward(self, x):\n",
    "        return F.normalize(x, dim=self.dim)\n",
    "    \n",
    "class Decoder(Coder):\n",
    "\n",
    "    def __init__(self, n_in, n_out, n_hid=[32]):\n",
    "        super().__init__(n_in, n_out, n_hid, output_activation=nn.Sigmoid)\n",
    "        \n",
    "class Encoder(Coder):\n",
    "\n",
    "    def __init__(self, n_in, n_out, n_hid=[32]):\n",
    "        super().__init__(n_in, n_out, n_hid, output_activation=nnNorm)"
   ]
  },
  {
   "cell_type": "code",
   "execution_count": 6,
   "metadata": {
    "colab": {
     "base_uri": "https://localhost:8080/",
     "height": 442
    },
    "colab_type": "code",
    "id": "a1kbTenPLfvP",
    "outputId": "035b7f6d-1e95-46cc-e5b8-c1f950a8e2ad"
   },
   "outputs": [
    {
     "name": "stdout",
     "output_type": "stream",
     "text": [
      "Encoder(\n",
      "  (layers): ModuleList(\n",
      "    (0): Sequential(\n",
      "      (0): Linear(in_features=125, out_features=16, bias=True)\n",
      "      (1): ReLU()\n",
      "    )\n",
      "    (1): Sequential(\n",
      "      (0): Linear(in_features=16, out_features=6, bias=True)\n",
      "      (1): nnNorm()\n",
      "    )\n",
      "  )\n",
      ")\n",
      "Decoder(\n",
      "  (layers): ModuleList(\n",
      "    (0): Sequential(\n",
      "      (0): Linear(in_features=6, out_features=16, bias=True)\n",
      "      (1): ReLU()\n",
      "    )\n",
      "    (1): Sequential(\n",
      "      (0): Linear(in_features=16, out_features=125, bias=True)\n",
      "      (1): Sigmoid()\n",
      "    )\n",
      "  )\n",
      ")\n"
     ]
    },
    {
     "data": {
      "text/plain": [
       "2118"
      ]
     },
     "execution_count": 6,
     "metadata": {},
     "output_type": "execute_result"
    }
   ],
   "source": [
    "encoder = Encoder(n_in=5*5*5, n_out=6, n_hid=[16])\n",
    "print(encoder)\n",
    "\n",
    "decoder = Decoder(n_in=6, n_out=5*5*5, n_hid=[16])\n",
    "print(decoder)\n",
    "\n",
    "def count_parameters(model):\n",
    "    return sum(p.numel() for p in model.parameters() if p.requires_grad)\n",
    "\n",
    "count_parameters(encoder)"
   ]
  },
  {
   "cell_type": "markdown",
   "metadata": {},
   "source": [
    "Check dimensions"
   ]
  },
  {
   "cell_type": "code",
   "execution_count": 7,
   "metadata": {
    "colab": {
     "base_uri": "https://localhost:8080/",
     "height": 595
    },
    "colab_type": "code",
    "id": "Eco7PPZVLfvS",
    "outputId": "173b8ca3-5c36-4b14-fcd4-1826cd381ef0"
   },
   "outputs": [
    {
     "name": "stdout",
     "output_type": "stream",
     "text": [
      "Observable rep (shape = torch.Size([125])) : \n",
      " tensor([0.6761, 0.4820, 0.7408, 0.2386, 0.3486, 0.2950, 0.8632, 0.8790, 0.8269,\n",
      "        0.4200, 0.7829, 0.6518, 0.4770, 0.2077, 0.7223, 0.8875, 0.8376, 0.6497,\n",
      "        0.1558, 0.7254, 0.2747, 0.7799, 0.4912, 0.8103, 0.0544, 0.9080, 0.1421,\n",
      "        0.9176, 0.6991, 0.6408, 0.5825, 0.3857, 0.5358, 0.0152, 0.4510, 0.5514,\n",
      "        0.7959, 0.1915, 0.1922, 0.7259, 0.5406, 0.2116, 0.6574, 0.7666, 0.1712,\n",
      "        0.3441, 0.0542, 0.6058, 0.6850, 0.7394, 0.4468, 0.1122, 0.3258, 0.2841,\n",
      "        0.7519, 0.5401, 0.0196, 0.9722, 0.5374, 0.9505, 0.8633, 0.8376, 0.3554,\n",
      "        0.5921, 0.5202, 0.5923, 0.6955, 0.0742, 0.9440, 0.4858, 0.4068, 0.6569,\n",
      "        0.8637, 0.4485, 0.4143, 0.9760, 0.3303, 0.5757, 0.3738, 0.8466, 0.1429,\n",
      "        0.5652, 0.3835, 0.3634, 0.6160, 0.5427, 0.9429, 0.2058, 0.2615, 0.4748,\n",
      "        0.9359, 0.4714, 0.7497, 0.2833, 0.5276, 0.2132, 0.9034, 0.4006, 0.7558,\n",
      "        0.6108, 0.1836, 0.3713, 0.1677, 0.9924, 0.7160, 0.4070, 0.8322, 0.7397,\n",
      "        0.2043, 0.1117, 0.4084, 0.9744, 0.4957, 0.8936, 0.3244, 0.2283, 0.9148,\n",
      "        0.6934, 0.1835, 0.2860, 0.8170, 0.7777, 0.8354, 0.2647, 0.2892])\n",
      "Latent rep (shape = torch.Size([6]), norm = 1.0) : \n",
      " tensor([ 0.4450, -0.3121, -0.8203, -0.0913,  0.1152,  0.1006],\n",
      "       grad_fn=<DivBackward0>)\n",
      "Reconstructed Observable rep (shape = torch.Size([125])) : \n",
      " tensor([0.4317, 0.5300, 0.4662, 0.4641, 0.4741, 0.5925, 0.5151, 0.4596, 0.5708,\n",
      "        0.4913, 0.5302, 0.4450, 0.4219, 0.4561, 0.5029, 0.4770, 0.6102, 0.4330,\n",
      "        0.4871, 0.6013, 0.4541, 0.3889, 0.4015, 0.6460, 0.5246, 0.4306, 0.4311,\n",
      "        0.4858, 0.4467, 0.3812, 0.5108, 0.4627, 0.4441, 0.4698, 0.6368, 0.5235,\n",
      "        0.5743, 0.4840, 0.4748, 0.5002, 0.4177, 0.5188, 0.4505, 0.5266, 0.4684,\n",
      "        0.4768, 0.4641, 0.4411, 0.4641, 0.4193, 0.5670, 0.5425, 0.4793, 0.4458,\n",
      "        0.5203, 0.4904, 0.4852, 0.5162, 0.5413, 0.5340, 0.5184, 0.5467, 0.5072,\n",
      "        0.5066, 0.4123, 0.4753, 0.4902, 0.5263, 0.5678, 0.5391, 0.5060, 0.4970,\n",
      "        0.4364, 0.4427, 0.4733, 0.4427, 0.4827, 0.4897, 0.5100, 0.5074, 0.4745,\n",
      "        0.4689, 0.4961, 0.5624, 0.5184, 0.5460, 0.5717, 0.3963, 0.5178, 0.5655,\n",
      "        0.5850, 0.4252, 0.4954, 0.5148, 0.5041, 0.5039, 0.5243, 0.5690, 0.5419,\n",
      "        0.5085, 0.5790, 0.6220, 0.4009, 0.5038, 0.5568, 0.5146, 0.6718, 0.4251,\n",
      "        0.4165, 0.4897, 0.5056, 0.5288, 0.4663, 0.5104, 0.5399, 0.4680, 0.4149,\n",
      "        0.5248, 0.5181, 0.4919, 0.5986, 0.4356, 0.4749, 0.5328, 0.5199],\n",
      "       grad_fn=<SigmoidBackward>)\n"
     ]
    }
   ],
   "source": [
    "x = torch.rand(125)\n",
    "z = encoder(x)\n",
    "x_recon = decoder(z)\n",
    "print(\"Observable rep (shape = {}) : \\n {}\".format(x.shape, x))\n",
    "print(\"Latent rep (shape = {}, norm = {}) : \\n {}\".format(z.shape, torch.norm(z), z))\n",
    "print(\"Reconstructed Observable rep (shape = {}) : \\n {}\".format(x_recon.shape, x_recon))"
   ]
  },
  {
   "cell_type": "markdown",
   "metadata": {
    "colab_type": "text",
    "id": "RxrdJVugLfvV"
   },
   "source": [
    "**Representation**\n",
    "\n",
    "The crux of the matter is learning to 'represent' actions in the observation space with actions in latent space.  Here, we will do this by assuming every action is a generalized rotation in latent space, which we denote with a series of 2-dimensional rotations.\n",
    "\n",
    "A 2-d rotation is given by:\n",
    "\n",
    "\\begin{pmatrix}\n",
    "\\cos(\\theta) & \\sin(\\theta) \\\\\n",
    "-\\sin(\\theta) & \\cos(\\theta)\n",
    "\\end{pmatrix}\n",
    "\n",
    "and we denote a rotation in dimensions $i$ and $j$ of a higher dimensional space as $R_{i,j}(\\theta)$.  For $i=1$, $j=4$, in a 4-dimensional space:\n",
    "\n",
    "\\begin{equation}\n",
    "R_{1,4}(\\theta) = \n",
    "\\begin{pmatrix}\n",
    "\\cos(\\theta) & 0 & 0 & \\sin(\\theta) \\\\\n",
    "0 & 1 & 0 & 0 \\\\\n",
    "0 & 0 & 1 & 0 \\\\\n",
    "-\\sin(\\theta) & 0 & 0 & \\cos(\\theta)\n",
    "\\end{pmatrix}\n",
    "\\end{equation}\n",
    "\n",
    "An arbitrary rotation, denoted $g$ as I am subtly moving towards this being a group action, can then be written as:\n",
    "\n",
    "\\begin{equation}\n",
    "    g(\\theta_{1,2},\\theta_{1,3},\\dots,\\theta_{n-1,n}) = \\prod_{i=1}^{n-1} \\prod_{j=1+1}^{n} R_{i,j}(\\theta_{i,j})\n",
    "\\end{equation}\n",
    "\n",
    "which has $n(n-1)/2$ free parameters (i.e. $\\theta_{i,j}$'s)."
   ]
  },
  {
   "cell_type": "code",
   "execution_count": 8,
   "metadata": {
    "colab": {},
    "colab_type": "code",
    "id": "cep0BxP6LfvV"
   },
   "outputs": [],
   "source": [
    "class Representation():\n",
    "\n",
    "    def __init__(self, dim=5):\n",
    "        self.dim = dim\n",
    "        self.params = dim*(dim-1)//2\n",
    "        self.thetas = torch.autograd.Variable(torch.rand(self.params), requires_grad=True)\n",
    "\n",
    "        self.__matrix = None\n",
    "    \n",
    "    def set_thetas(self, thetas):\n",
    "        self.thetas = thetas\n",
    "        self.thetas.requires_grad = True\n",
    "        self.clear_matrix()\n",
    "    \n",
    "    def clear_matrix(self):\n",
    "        self.__matrix = None\n",
    "        \n",
    "    def get_matrix(self):\n",
    "        if self.__matrix is None:\n",
    "            k = 0\n",
    "            mats = []\n",
    "            for i in range(self.dim-1):\n",
    "                for j in range(self.dim-1-i):\n",
    "                    theta_ij = self.thetas[k]\n",
    "                    k+=1\n",
    "                    c, s = torch.cos(theta_ij), torch.sin(theta_ij)\n",
    "\n",
    "                    rotation_i = torch.eye(self.dim, self.dim)\n",
    "                    rotation_i[i, i] = c\n",
    "                    rotation_i[i, i+j+1] = s\n",
    "                    rotation_i[j+i+1, i] = -s\n",
    "                    rotation_i[j+i+1, j+i+1] = c\n",
    "\n",
    "                    mats.append(rotation_i)\n",
    "\n",
    "            def chain_mult(l):\n",
    "                if len(l)>=3:\n",
    "                    return l[0]@l[1]@chain_mult(l[2:])\n",
    "                elif len(l)==2:\n",
    "                    return l[0]@l[1]\n",
    "                else:\n",
    "                    return l[0]\n",
    "\n",
    "            self.__matrix = chain_mult(mats)\n",
    "                                    \n",
    "        return self.__matrix"
   ]
  },
  {
   "cell_type": "markdown",
   "metadata": {
    "colab_type": "text",
    "id": "ukE8Gp7SLfvX"
   },
   "source": [
    "**LatentWorld**\n",
    "\n",
    "Now, for symmetry's sake, we'll also have a `LatentWorld` which acts as the environment in the latent space."
   ]
  },
  {
   "cell_type": "code",
   "execution_count": 9,
   "metadata": {
    "colab": {},
    "colab_type": "code",
    "id": "azhcq0caLfvY"
   },
   "outputs": [],
   "source": [
    "class LatentWorld():\n",
    "    \n",
    "    class action_space():\n",
    "        def __init__(self,n_actions):\n",
    "            self.n = n_actions\n",
    "            \n",
    "        def sample(self, k=1):\n",
    "            return torch.randint(0,self.n,(k,))\n",
    "\n",
    "    class observation_space():\n",
    "        def __init__(self,n_features):\n",
    "            self.shape = [n_features]\n",
    "    \n",
    "    def __init__(self,\n",
    "                 dim=5,\n",
    "                 n_actions=8,\n",
    "                 action_reps=None):\n",
    "\n",
    "        self.dim = dim\n",
    "\n",
    "        self.action_space = self.action_space(n_actions)\n",
    "        self.observation_space = self.observation_space(dim)\n",
    "        \n",
    "        if action_reps is None:\n",
    "            self.action_reps = [Representation(dim=self.dim) for _ in range(n_actions)]\n",
    "        else:\n",
    "            if len(action_reps)!=n_actions:\n",
    "                raise Exception(\"Must pass an action representation for every action.\")\n",
    "            if not all([rep.dim==self.dim]):\n",
    "                raise Exception(\"Action representations do not act on the dimension of the latent space.\")\n",
    "            self.action_reps = action_reps\n",
    "        \n",
    "    def reset(self, state):\n",
    "        self.state = state\n",
    "        return self.get_observation()\n",
    "    \n",
    "    def clear_representations(self):\n",
    "        for rep in self.action_reps:\n",
    "            rep.clear_matrix()\n",
    "            \n",
    "    def get_representation_params(self):\n",
    "        params = []\n",
    "        for rep in self.action_reps:\n",
    "            params.append(rep.thetas)\n",
    "        return params\n",
    "    \n",
    "    def save_representations(self, path):\n",
    "        if os.path.splitext(path)[-1] != '.pth':\n",
    "            path += '.pth'\n",
    "        rep_thetas = [rep.thetas for rep in self.action_reps]\n",
    "        return torch.save(rep_thetas, path)\n",
    "    \n",
    "    def load_reprentations(self, path):\n",
    "        rep_thetas = torch.load(path)\n",
    "        for rep in self.action_reps:\n",
    "            rep.set_thetas(rep_thetas.pop(0))\n",
    "            \n",
    "    def get_observation(self):\n",
    "        return self.state\n",
    "    \n",
    "    def step(self,action):\n",
    "        self.state = torch.mv(self.action_reps[action].get_matrix(), self.state)\n",
    "        obs = self.get_observation()\n",
    "        return obs"
   ]
  },
  {
   "cell_type": "markdown",
   "metadata": {
    "colab_type": "text",
    "id": "wuNAMNxVLfvr"
   },
   "source": [
    "## 5. Disentanglement\n",
    "\n",
    "***Some jargon***\n",
    "\n",
    "We focus on learning a *disentangled* representation of the actions.\n",
    "\n",
    "Before considering how best to do this, we want to define a metric of 'disentanglement'.  We consider the evolution of an observable (latent) vector, $x \\in X$ ($z \\in Z$), under the element $g \\in G$ of the group of symmetries generating transformations of the object.  Then we are looking for a representation, $\\rho:G \\rightarrow GL(V)$, such that the transformation is linear in the latent space, i.e.\n",
    "\\begin{equation}\n",
    "    z^{\\prime} = \\rho(g) \\cdot z.\n",
    "\\end{equation}\n",
    "Note, in our case, the representations are the rotation matrices we learn.\n",
    "\n",
    "For this representation to be disentangled, it means that if there exists a subgroup decomposition of $G$\n",
    "\\begin{equation}\n",
    "    G = G_1 \\times G_2 \\times \\dots \\times G_n,\n",
    "\\end{equation}\n",
    "then we equivalently decompose the representation, $(\\rho, G)$, into subrepresentations:\n",
    "\\begin{equation}\n",
    "    V = V_1 \\oplus V_2 \\oplus \\dots \\oplus V_n\n",
    "\\end{equation}\n",
    "such that the restricted subrepresentations $(\\rho_{\\vert G_i}, V_i)_i$ are non-trivial, and the restricted subrepresentations $(\\rho_{\\vert G_i}, V_j)_{j \\neq i}$ are trivial.\n",
    "\n",
    "In our context, a SphereWorld can be represented as a subgroup of $\\mathrm{SO}(3) \\times \\mathrm{SO}(2)$, therefore we hope to find the disentangled representation of 6 rotations and 2 changes in color that correspond to this.\n",
    "\n",
    "***Some practicalities***\n",
    "\n",
    "Our intuition is that the disentangled representation acts as the identity on as many dimensions as possible.  We could attempt to enforce this with some regularization during training.  Normal weight decay won't cut it, as that tries to reduce all weights, where as what we really want to do is have all *but one* of our thetas (which corresponds to the rotation/coupling of two dimensions) to be zero.\n",
    "\n",
    "**1. Entanglement regularisation**\n",
    "\n",
    "So for $m$ parameters, ${\\theta_1, \\dots, \\theta_m}$, we want to regularise with\n",
    "\\begin{equation}\n",
    "    \\sum_{i \\neq j} \\vert\\theta_i\\vert^2, \\mathrm{where\\ } \\theta_j {=} \\mathrm{max_k}({\\vert\\theta_k\\vert}).\n",
    "\\end{equation}\n",
    "We will also use this term as our metric of 'entanglement'."
   ]
  },
  {
   "cell_type": "code",
   "execution_count": 10,
   "metadata": {
    "colab": {
     "base_uri": "https://localhost:8080/",
     "height": 34
    },
    "colab_type": "code",
    "id": "LY1Jk0TqLfvr",
    "outputId": "64554b96-8684-43f3-823b-0741c93da75f"
   },
   "outputs": [
    {
     "data": {
      "text/plain": [
       "tensor(1.2500)"
      ]
     },
     "execution_count": 10,
     "metadata": {},
     "output_type": "execute_result"
    }
   ],
   "source": [
    "def calc_entanglement(params):\n",
    "    params = params.abs().pow(2)\n",
    "    return params.sum() - params.max()\n",
    "\n",
    "params = torch.FloatTensor([1,1,0.5,0,0])\n",
    "calc_entanglement(params)"
   ]
  },
  {
   "cell_type": "markdown",
   "metadata": {
    "colab_type": "text",
    "id": "IHlJMPneLfvw"
   },
   "source": [
    "### Training with regularization\n",
    "\n",
    "Note: undesirable local minima are known to exist (in particular the loss can sometimes get stuck at 8e-3), which can sometimes lead to learning poor representations"
   ]
  },
  {
   "cell_type": "code",
   "execution_count": 17,
   "metadata": {
    "colab": {},
    "colab_type": "code",
    "id": "hSUBy6XTLfvx"
   },
   "outputs": [],
   "source": [
    "obs_env = SphereWorld(dim = 5, radius = 4., num_colors=5)\n",
    "lat_env = LatentWorld(dim = 5,\n",
    "                      n_actions = obs_env.action_space.n\n",
    "                     )\n",
    "decoder = Decoder(n_in = sum(lat_env.observation_space.shape),\n",
    "                  n_out = sum(obs_env.observation_space.shape),\n",
    "                  n_hid = [64])\n",
    "\n",
    "encoder = Encoder(n_in = sum(obs_env.observation_space.shape),\n",
    "                  n_out = sum(lat_env.observation_space.shape),\n",
    "                  n_hid = [64])\n",
    "\n",
    "optimizer_dec = optim.Adam(decoder.parameters(),\n",
    "                           lr=3e-2,\n",
    "#                            betas=(0.9, 0.99),\n",
    "                           weight_decay=0)\n",
    "\n",
    "optimizer_enc = optim.Adam(encoder.parameters(),\n",
    "                           lr=4e-2,\n",
    "#                            betas=(0.9, 0.99),\n",
    "                           weight_decay=0)\n",
    "\n",
    "optimizer_rep = optim.Adam(lat_env.get_representation_params(),\n",
    "                           lr=3e-2,\n",
    "#                            betas=(0.9, 0.99),\n",
    "                           weight_decay=0)\n",
    "\n",
    "losses = []\n",
    "entanglement = []\n",
    "orthogonality = []"
   ]
  },
  {
   "cell_type": "code",
   "execution_count": 18,
   "metadata": {
    "colab": {
     "base_uri": "https://localhost:8080/",
     "height": 867
    },
    "colab_type": "code",
    "id": "wFgbK3o1Lfv1",
    "outputId": "c959589e-ff2c-408d-e318-332e91b6a641"
   },
   "outputs": [
    {
     "name": "stdout",
     "output_type": "stream",
     "text": [
      "iter 100 : loss=1.413e-02 : entanglement=4.17e-04 : last 10 iters in 0.913s\n",
      "iter 200 : loss=1.025e-02 : entanglement=9.16e-05 : last 10 iters in 0.926s\n",
      "iter 300 : loss=1.047e-02 : entanglement=4.18e-05 : last 10 iters in 1.172s\n",
      "iter 400 : loss=9.737e-03 : entanglement=4.85e-05 : last 10 iters in 0.903s\n",
      "iter 500 : loss=9.817e-03 : entanglement=5.36e-05 : last 10 iters in 0.906s\n",
      "iter 600 : loss=9.832e-03 : entanglement=4.15e-05 : last 10 iters in 1.038s\n",
      "iter 700 : loss=9.425e-03 : entanglement=3.88e-05 : last 10 iters in 0.910s\n",
      "iter 800 : loss=9.323e-03 : entanglement=3.58e-05 : last 10 iters in 0.996s\n",
      "iter 900 : loss=9.213e-03 : entanglement=3.25e-05 : last 10 iters in 0.964s\n",
      "iter 1000 : loss=9.013e-03 : entanglement=2.87e-05 : last 10 iters in 0.925s\n",
      "iter 1100 : loss=9.338e-03 : entanglement=4.03e-05 : last 10 iters in 0.896s\n",
      "iter 1200 : loss=9.229e-03 : entanglement=2.93e-05 : last 10 iters in 0.909s\n",
      "iter 1300 : loss=8.654e-03 : entanglement=1.86e-05 : last 10 iters in 0.925s\n",
      "iter 1400 : loss=8.736e-03 : entanglement=1.12e-05 : last 10 iters in 1.031s\n",
      "iter 1500 : loss=9.302e-03 : entanglement=1.55e-05 : last 10 iters in 0.937s\n",
      "iter 1600 : loss=8.273e-03 : entanglement=1.21e-05 : last 10 iters in 0.977s\n",
      "iter 1700 : loss=9.641e-03 : entanglement=1.78e-05 : last 10 iters in 1.070s\n",
      "iter 1800 : loss=8.381e-03 : entanglement=3.20e-05 : last 10 iters in 1.088s\n",
      "iter 1900 : loss=8.553e-03 : entanglement=2.37e-05 : last 10 iters in 1.078s\n",
      "iter 2000 : loss=8.242e-03 : entanglement=2.76e-05 : last 10 iters in 0.927s\n",
      "iter 2100 : loss=8.756e-03 : entanglement=5.27e-05 : last 10 iters in 0.892s\n",
      "iter 2200 : loss=8.191e-03 : entanglement=2.52e-05 : last 10 iters in 0.977s\n",
      "iter 2300 : loss=8.468e-03 : entanglement=2.74e-05 : last 10 iters in 0.928s\n",
      "iter 2400 : loss=8.265e-03 : entanglement=2.82e-05 : last 10 iters in 0.932s\n",
      "iter 2500 : loss=8.004e-03 : entanglement=5.72e-05 : last 10 iters in 0.936s\n",
      "iter 2600 : loss=6.925e-03 : entanglement=4.53e-05 : last 10 iters in 0.914s\n",
      "iter 2700 : loss=6.640e-03 : entanglement=2.14e-05 : last 10 iters in 0.919s\n",
      "iter 2800 : loss=5.999e-03 : entanglement=1.59e-05 : last 10 iters in 0.895s\n",
      "iter 2900 : loss=5.755e-03 : entanglement=1.58e-05 : last 10 iters in 0.912s\n",
      "iter 3000 : loss=5.840e-03 : entanglement=1.24e-05 : last 10 iters in 0.941s\n",
      "iter 3100 : loss=5.392e-03 : entanglement=6.65e-06 : last 10 iters in 0.949s\n",
      "iter 3200 : loss=6.008e-03 : entanglement=1.60e-05 : last 10 iters in 1.007s\n",
      "iter 3300 : loss=4.956e-03 : entanglement=3.61e-06 : last 10 iters in 0.904s\n",
      "iter 3400 : loss=4.831e-03 : entanglement=7.39e-06 : last 10 iters in 0.947s\n",
      "iter 3500 : loss=4.991e-03 : entanglement=1.25e-05 : last 10 iters in 0.932s\n",
      "iter 3600 : loss=5.360e-03 : entanglement=8.10e-06 : last 10 iters in 0.903s\n",
      "iter 3700 : loss=4.709e-03 : entanglement=4.43e-06 : last 10 iters in 0.959s\n",
      "iter 3800 : loss=4.304e-03 : entanglement=2.49e-06 : last 10 iters in 0.920s\n",
      "iter 3900 : loss=5.200e-03 : entanglement=9.96e-06 : last 10 iters in 0.953s\n",
      "iter 4000 : loss=4.792e-03 : entanglement=6.95e-06 : last 10 iters in 0.926s\n",
      "iter 4100 : loss=4.522e-03 : entanglement=3.11e-06 : last 10 iters in 0.958s\n",
      "iter 4200 : loss=4.516e-03 : entanglement=7.16e-06 : last 10 iters in 0.990s\n",
      "iter 4300 : loss=4.724e-03 : entanglement=6.29e-06 : last 10 iters in 0.943s\n",
      "iter 4400 : loss=4.377e-03 : entanglement=3.62e-06 : last 10 iters in 1.035s\n",
      "iter 4500 : loss=4.955e-03 : entanglement=7.52e-06 : last 10 iters in 1.563s\n",
      "iter 4600 : loss=4.886e-03 : entanglement=4.16e-06 : last 10 iters in 0.953s\n",
      "iter 4700 : loss=4.283e-03 : entanglement=5.05e-06 : last 10 iters in 0.912s\n",
      "iter 4800 : loss=4.080e-03 : entanglement=3.88e-06 : last 10 iters in 0.890s\n",
      "iter 4900 : loss=4.438e-03 : entanglement=2.01e-06 : last 10 iters in 0.907s\n",
      "iter 5000 : loss=3.991e-03 : entanglement=2.23e-06 : last 10 iters in 0.950s\n",
      "iter 5100 : loss=4.517e-03 : entanglement=5.03e-06 : last 10 iters in 0.933s\n",
      "iter 5200 : loss=4.436e-03 : entanglement=4.95e-06 : last 10 iters in 1.118s\n",
      "iter 5300 : loss=4.098e-03 : entanglement=3.93e-06 : last 10 iters in 1.046s\n",
      "iter 5400 : loss=3.779e-03 : entanglement=3.09e-06 : last 10 iters in 1.181s\n",
      "iter 5500 : loss=4.209e-03 : entanglement=7.97e-06 : last 10 iters in 1.087s\n",
      "iter 5600 : loss=4.373e-03 : entanglement=2.65e-06 : last 10 iters in 1.099s\n",
      "iter 5700 : loss=3.727e-03 : entanglement=2.77e-06 : last 10 iters in 1.136s\n",
      "iter 5800 : loss=4.096e-03 : entanglement=2.12e-06 : last 10 iters in 1.284s\n",
      "iter 5900 : loss=4.421e-03 : entanglement=5.37e-06 : last 10 iters in 1.219s\n",
      "iter 6000 : loss=4.593e-03 : entanglement=7.83e-06 : last 10 iters in 1.068s\n",
      "iter 6100 : loss=3.780e-03 : entanglement=3.30e-06 : last 10 iters in 1.220s\n",
      "iter 6200 : loss=4.091e-03 : entanglement=2.63e-06 : last 10 iters in 1.105s\n",
      "iter 6300 : loss=4.537e-03 : entanglement=2.64e-06 : last 10 iters in 1.133s\n",
      "iter 6400 : loss=4.738e-03 : entanglement=7.06e-06 : last 10 iters in 1.143s\n",
      "iter 6500 : loss=5.066e-03 : entanglement=8.21e-06 : last 10 iters in 1.084s\n",
      "iter 6600 : loss=4.277e-03 : entanglement=2.51e-06 : last 10 iters in 1.233s\n",
      "iter 6700 : loss=4.308e-03 : entanglement=3.53e-06 : last 10 iters in 1.062s\n",
      "iter 6800 : loss=4.121e-03 : entanglement=2.02e-06 : last 10 iters in 0.972s\n",
      "iter 6900 : loss=4.075e-03 : entanglement=1.67e-06 : last 10 iters in 1.045s\n",
      "iter 7000 : loss=4.583e-03 : entanglement=2.15e-06 : last 10 iters in 1.384s\n",
      "iter 7100 : loss=4.608e-03 : entanglement=1.21e-05 : last 10 iters in 1.491s\n",
      "iter 7200 : loss=4.418e-03 : entanglement=6.30e-06 : last 10 iters in 1.197s\n",
      "iter 7300 : loss=4.034e-03 : entanglement=1.33e-06 : last 10 iters in 1.105s\n",
      "iter 7400 : loss=3.932e-03 : entanglement=2.26e-06 : last 10 iters in 0.982s\n",
      "iter 7500 : loss=4.022e-03 : entanglement=4.16e-06 : last 10 iters in 1.076s\n",
      "iter 7600 : loss=3.966e-03 : entanglement=5.05e-06 : last 10 iters in 1.106s\n",
      "iter 7700 : loss=4.221e-03 : entanglement=3.03e-06 : last 10 iters in 1.048s\n",
      "iter 7800 : loss=5.230e-03 : entanglement=1.71e-05 : last 10 iters in 1.084s\n",
      "iter 7900 : loss=4.315e-03 : entanglement=3.25e-06 : last 10 iters in 1.366s\n",
      "iter 8000 : loss=4.493e-03 : entanglement=1.56e-06 : last 10 iters in 1.148s\n",
      "iter 8100 : loss=4.248e-03 : entanglement=2.54e-06 : last 10 iters in 1.511s\n",
      "iter 8200 : loss=4.166e-03 : entanglement=1.90e-06 : last 10 iters in 1.184s\n",
      "iter 8300 : loss=4.382e-03 : entanglement=4.76e-06 : last 10 iters in 1.065s\n",
      "iter 8400 : loss=4.241e-03 : entanglement=1.94e-06 : last 10 iters in 1.017s\n",
      "iter 8500 : loss=3.934e-03 : entanglement=1.47e-06 : last 10 iters in 1.361s\n",
      "iter 8600 : loss=4.225e-03 : entanglement=3.91e-06 : last 10 iters in 1.145s\n",
      "iter 8700 : loss=4.054e-03 : entanglement=1.66e-06 : last 10 iters in 1.188s\n",
      "iter 8800 : loss=4.907e-03 : entanglement=6.63e-06 : last 10 iters in 1.095s\n",
      "iter 8900 : loss=4.075e-03 : entanglement=6.63e-06 : last 10 iters in 1.038s\n",
      "iter 9000 : loss=4.984e-03 : entanglement=8.87e-06 : last 10 iters in 0.955s\n",
      "iter 9100 : loss=3.860e-03 : entanglement=2.12e-06 : last 10 iters in 1.127s\n",
      "iter 9200 : loss=4.209e-03 : entanglement=4.24e-06 : last 10 iters in 1.404s\n",
      "iter 9300 : loss=3.879e-03 : entanglement=2.85e-06 : last 10 iters in 1.263s\n",
      "iter 9400 : loss=4.142e-03 : entanglement=2.56e-06 : last 10 iters in 1.051s\n",
      "iter 9500 : loss=3.917e-03 : entanglement=2.78e-06 : last 10 iters in 1.244s\n",
      "iter 9600 : loss=4.708e-03 : entanglement=9.57e-06 : last 10 iters in 1.036s\n",
      "iter 9700 : loss=5.169e-03 : entanglement=9.32e-06 : last 10 iters in 1.088s\n",
      "iter 9800 : loss=4.446e-03 : entanglement=2.13e-06 : last 10 iters in 1.154s\n",
      "iter 9900 : loss=4.108e-03 : entanglement=5.23e-06 : last 10 iters in 1.216s\n",
      "iter 10000 : loss=3.914e-03 : entanglement=1.31e-06 : last 10 iters in 1.064s\n",
      "iter 10100 : loss=3.935e-03 : entanglement=3.22e-06 : last 10 iters in 1.069s\n",
      "iter 10200 : loss=4.080e-03 : entanglement=2.34e-06 : last 10 iters in 1.075s\n",
      "iter 10300 : loss=3.707e-03 : entanglement=1.73e-06 : last 10 iters in 1.093s\n",
      "iter 10400 : loss=3.917e-03 : entanglement=2.00e-06 : last 10 iters in 1.379s\n",
      "iter 10500 : loss=3.937e-03 : entanglement=2.65e-06 : last 10 iters in 1.089s\n",
      "iter 10600 : loss=4.206e-03 : entanglement=5.94e-06 : last 10 iters in 1.089s\n"
     ]
    },
    {
     "name": "stdout",
     "output_type": "stream",
     "text": [
      "iter 10700 : loss=4.691e-03 : entanglement=1.87e-05 : last 10 iters in 1.063s\n",
      "iter 10800 : loss=4.010e-03 : entanglement=2.17e-06 : last 10 iters in 1.294s\n",
      "iter 10900 : loss=4.046e-03 : entanglement=1.81e-06 : last 10 iters in 0.976s\n",
      "iter 11000 : loss=4.244e-03 : entanglement=2.73e-06 : last 10 iters in 0.975s\n",
      "iter 11100 : loss=3.734e-03 : entanglement=1.48e-06 : last 10 iters in 0.960s\n",
      "iter 11200 : loss=3.819e-03 : entanglement=2.85e-06 : last 10 iters in 1.088s\n",
      "iter 11300 : loss=4.627e-03 : entanglement=6.61e-06 : last 10 iters in 1.225s\n",
      "iter 11400 : loss=4.015e-03 : entanglement=5.34e-06 : last 10 iters in 1.045s\n",
      "iter 11500 : loss=4.027e-03 : entanglement=2.13e-06 : last 10 iters in 1.079s\n",
      "iter 11600 : loss=4.084e-03 : entanglement=2.79e-06 : last 10 iters in 1.052s\n",
      "iter 11700 : loss=4.131e-03 : entanglement=5.95e-06 : last 10 iters in 1.050s\n",
      "iter 11800 : loss=4.189e-03 : entanglement=6.10e-06 : last 10 iters in 1.098s\n",
      "iter 11900 : loss=3.964e-03 : entanglement=2.41e-06 : last 10 iters in 0.956s\n",
      "iter 12000 : loss=4.004e-03 : entanglement=3.22e-06 : last 10 iters in 0.976s\n",
      "iter 12100 : loss=3.814e-03 : entanglement=4.90e-06 : last 10 iters in 1.057s\n",
      "iter 12200 : loss=3.990e-03 : entanglement=1.68e-06 : last 10 iters in 0.970s\n",
      "iter 12300 : loss=4.068e-03 : entanglement=1.45e-06 : last 10 iters in 1.336s\n",
      "iter 12400 : loss=5.012e-03 : entanglement=1.30e-05 : last 10 iters in 1.169s\n",
      "iter 12500 : loss=4.852e-03 : entanglement=8.47e-06 : last 10 iters in 1.359s\n",
      "iter 12600 : loss=4.157e-03 : entanglement=2.17e-06 : last 10 iters in 1.077s\n",
      "iter 12700 : loss=3.950e-03 : entanglement=2.74e-06 : last 10 iters in 1.314s\n",
      "iter 12800 : loss=4.048e-03 : entanglement=3.68e-06 : last 10 iters in 1.124s\n",
      "iter 12900 : loss=3.875e-03 : entanglement=2.11e-06 : last 10 iters in 1.159s\n",
      "iter 13000 : loss=4.225e-03 : entanglement=2.76e-06 : last 10 iters in 1.127s\n",
      "iter 13100 : loss=4.599e-03 : entanglement=8.96e-06 : last 10 iters in 1.164s\n",
      "iter 13200 : loss=4.326e-03 : entanglement=2.19e-06 : last 10 iters in 0.956s\n",
      "iter 13300 : loss=4.023e-03 : entanglement=5.88e-06 : last 10 iters in 0.959s\n",
      "iter 13400 : loss=4.102e-03 : entanglement=2.75e-06 : last 10 iters in 0.934s\n",
      "iter 13500 : loss=3.915e-03 : entanglement=3.60e-06 : last 10 iters in 1.072s\n",
      "iter 13600 : loss=3.797e-03 : entanglement=1.83e-06 : last 10 iters in 0.941s\n",
      "iter 13700 : loss=3.552e-03 : entanglement=1.35e-06 : last 10 iters in 0.954s\n",
      "iter 13800 : loss=3.968e-03 : entanglement=1.27e-06 : last 10 iters in 1.095s\n",
      "iter 13900 : loss=4.242e-03 : entanglement=3.15e-06 : last 10 iters in 0.943s\n",
      "iter 14000 : loss=4.400e-03 : entanglement=3.52e-06 : last 10 iters in 0.916s\n",
      "iter 14100 : loss=4.055e-03 : entanglement=2.65e-06 : last 10 iters in 1.399s\n",
      "iter 14200 : loss=3.895e-03 : entanglement=4.00e-06 : last 10 iters in 0.955s\n",
      "iter 14300 : loss=3.775e-03 : entanglement=1.37e-06 : last 10 iters in 1.020s\n",
      "iter 14400 : loss=4.202e-03 : entanglement=2.32e-06 : last 10 iters in 1.048s\n",
      "iter 14500 : loss=5.215e-03 : entanglement=1.08e-05 : last 10 iters in 0.988s\n",
      "iter 14600 : loss=4.252e-03 : entanglement=9.86e-06 : last 10 iters in 1.344s\n",
      "iter 14700 : loss=4.185e-03 : entanglement=6.25e-06 : last 10 iters in 1.079s\n",
      "iter 14800 : loss=3.908e-03 : entanglement=2.49e-06 : last 10 iters in 0.972s\n",
      "iter 14900 : loss=4.084e-03 : entanglement=1.15e-06 : last 10 iters in 0.982s\n",
      "iter 15000 : loss=3.819e-03 : entanglement=1.60e-06 : last 10 iters in 1.087s\n"
     ]
    }
   ],
   "source": [
    "n_sgd_steps = 15000\n",
    "ep_steps = 5\n",
    "batch_eps = 16\n",
    "\n",
    "angle = np.pi * 2/5\n",
    "\n",
    "i = 1\n",
    "\n",
    "t_start = time.time()\n",
    "\n",
    "temp = 0\n",
    "\n",
    "while i < n_sgd_steps:\n",
    "    loss = torch.zeros(1)\n",
    "\n",
    "    for _ in range(batch_eps):\n",
    "        t_ep = -1\n",
    "        while t_ep < ep_steps:\n",
    "            if t_ep == -1:\n",
    "                obs_x = obs_env.reset()\n",
    "                obs_z = lat_env.reset(encoder(obs_x))\n",
    "            else:\n",
    "                action = obs_env.action_space.sample().item()\n",
    "                obs_x = obs_env.step(action, angle)\n",
    "                obs_z = lat_env.step(action)\n",
    "            \n",
    "            t_ep += 1         \n",
    "            \n",
    "            obs_x_recon = decoder(obs_z)\n",
    "\n",
    "            loss += F.binary_cross_entropy(obs_x_recon, obs_x)\n",
    "            loss += (obs_x_recon[0] - obs_x[0]).abs() / 100 #Insist on the color\n",
    "        \n",
    "    loss /= (ep_steps * batch_eps)\n",
    "    loss_raw = loss\n",
    "\n",
    "    reg_loss = sum([calc_entanglement(r.thetas) for r in lat_env.action_reps])*1e-4\n",
    "    loss += reg_loss\n",
    "                        \n",
    "    losses.append(loss_raw.item())\n",
    "    entanglement.append(reg_loss.item())\n",
    "    \n",
    "    optimizer_dec.zero_grad()\n",
    "    optimizer_rep.zero_grad()\n",
    "    optimizer_enc.zero_grad()\n",
    "    loss.backward()\n",
    "    optimizer_dec.step()\n",
    "    optimizer_rep.step()\n",
    "    optimizer_enc.step()\n",
    "        \n",
    "    # Rember to clear the cached action representations after we update the parameters!\n",
    "    lat_env.clear_representations()\n",
    "\n",
    "    i+=1\n",
    "    \n",
    "    if i%10==0:\n",
    "        print(\"iter {} : loss={:.3e} : entanglement={:.2e} : last 10 iters in {:.3f}s\".format(\n",
    "            i, loss.item(), reg_loss.item(), time.time() - t_start\n",
    "            ), end=\"\\r\" if i%100 else \"\\n\")\n",
    "        t_start = time.time()"
   ]
  },
  {
   "cell_type": "code",
   "execution_count": 19,
   "metadata": {
    "colab": {
     "base_uri": "https://localhost:8080/",
     "height": 68
    },
    "colab_type": "code",
    "id": "7QC0cpblLfv3",
    "outputId": "43482ebf-4c4a-4a94-ef21-c30630004c34"
   },
   "outputs": [
    {
     "name": "stdout",
     "output_type": "stream",
     "text": [
      "dir already exists:  _data/decoder_only/ent_reg_1e-2_orthNorm_reg_1e-2_20steps_16batch\n",
      "dir already exists:  _data/decoder_only/ent_reg_1e-2_orthNorm_reg_1e-2_20steps_16batch/train\n",
      "dir already exists:  _data/decoder_only/ent_reg_1e-2_orthNorm_reg_1e-2_20steps_16batch/test\n"
     ]
    }
   ],
   "source": [
    "exp_name = \"ent_reg_1e-2_orthNorm_reg_1e-2_20steps_16batch\"\n",
    "# exp_name = \"testing\"\n",
    "\n",
    "save_folder = os.path.join(\"_data/decoder_only\", exp_name)\n",
    "train_folder = os.path.join(save_folder,\"train\")\n",
    "test_folder = os.path.join(save_folder,\"test\")\n",
    "\n",
    "mk_dir(save_folder)\n",
    "mk_dir(train_folder)\n",
    "mk_dir(test_folder)"
   ]
  },
  {
   "cell_type": "markdown",
   "metadata": {},
   "source": [
    "**Show training curve**"
   ]
  },
  {
   "cell_type": "code",
   "execution_count": 20,
   "metadata": {
    "colab": {
     "base_uri": "https://localhost:8080/",
     "height": 270
    },
    "colab_type": "code",
    "id": "8ZvGlRhrLfv7",
    "outputId": "081fbf1b-5502-46e0-dafe-d90e4b531764"
   },
   "outputs": [
    {
     "data": {
      "image/png": "[encoded data removed]",
      "text/plain": [
       "<Figure size 1200x250 with 2 Axes>"
      ]
     },
     "metadata": {},
     "output_type": "display_data"
    }
   ],
   "source": [
    "with plt.style.context('seaborn-paper', after_reset=True):\n",
    "\n",
    "    fig, (ax1, ax2) = plt.subplots(1, 2, figsize=(12, 2.5), gridspec_kw={\"wspace\":0.3})\n",
    "\n",
    "    window = 25\n",
    "    avg_mask = np.ones(window) / window\n",
    "\n",
    "    ax1.plot(np.convolve(range(len(losses)), avg_mask, 'valid'),\n",
    "             np.convolve(np.log(losses), avg_mask, 'valid'),\n",
    "             linewidth=0.75,\n",
    "             alpha=0.8)\n",
    "#     ax1.set_yscale(\"log\")\n",
    "\n",
    "    ax1.set_xlabel(\"Num. parameter updates\")\n",
    "    ax1.set_ylabel(\"Log reconstruction loss\")\n",
    "    \n",
    "    ax2.plot(np.convolve(range(len(entanglement)), avg_mask, 'valid'),\n",
    "             np.convolve(entanglement, avg_mask, 'valid'),\n",
    "             linewidth=0.75,\n",
    "             alpha=0.8)\n",
    "    ax2.set_yscale(\"log\")\n",
    "\n",
    "    ax2.set_xlabel(\"Num. parameter updates\")\n",
    "    ax2.set_ylabel(\"Entanglement\")\n",
    "    \n",
    "    fig_fname = os.path.join(train_folder, \"training_curves\")\n",
    "    plt.savefig(fig_fname + \".pdf\", bbox_inches='tight')\n",
    "    plt.savefig(fig_fname + \".png\", bbox_inches='tight')"
   ]
  },
  {
   "cell_type": "code",
   "execution_count": 21,
   "metadata": {
    "colab": {},
    "colab_type": "code",
    "id": "NIoWghTALfv9"
   },
   "outputs": [],
   "source": [
    "torch.save(decoder.state_dict(), os.path.join(save_folder,\"decoder.pth\"))\n",
    "rep_thetas = [rep.thetas for rep in lat_env.action_reps]\n",
    "torch.save(rep_thetas, os.path.join(save_folder,\"representations.pth\"))\n",
    "torch.save(optimizer_dec.state_dict(), os.path.join(train_folder,\"optimizer_dec.pth\"))\n",
    "torch.save(optimizer_rep.state_dict(), os.path.join(train_folder,\"optimizer_rep.pth\"))"
   ]
  },
  {
   "cell_type": "markdown",
   "metadata": {
    "colab_type": "text",
    "id": "UEa4HWOULfwA"
   },
   "source": [
    "### Testing\n",
    "\n",
    "**1) Show action representations**"
   ]
  },
  {
   "cell_type": "code",
   "execution_count": 22,
   "metadata": {
    "colab": {
     "base_uri": "https://localhost:8080/",
     "height": 734
    },
    "colab_type": "code",
    "id": "lT3q-ZeWLfwB",
    "outputId": "99e2f956-c1d4-4f68-9894-aaf000b24916"
   },
   "outputs": [
    {
     "name": "stdout",
     "output_type": "stream",
     "text": [
      "[array([ 1.2687328e+00,  5.3777779e-04, -7.5127389e-03,  1.8355068e-02,\n",
      "       -4.4266582e-03,  1.1433070e-02,  2.0529620e-02, -8.6613800e-03,\n",
      "       -1.2191871e-02, -2.0282485e-03], dtype=float32), array([-1.2394382 ,  0.0054478 ,  0.0221457 ,  0.01807708,  0.01254465,\n",
      "        0.03325973,  0.03186062, -0.01183999,  0.00941108,  0.00814397],\n",
      "      dtype=float32), array([-1.20347105e-02, -1.27251577e+00, -4.72501339e-03,  5.86833153e-03,\n",
      "       -9.00871772e-03, -4.06470522e-02,  7.86380842e-03,  9.04065091e-04,\n",
      "       -6.37711585e-03, -1.61028598e-02], dtype=float32), array([ 1.0097982e-02,  1.2616019e+00,  5.7949470e-03, -6.7733941e-03,\n",
      "        5.3366506e-03, -1.9290835e-02,  1.2613399e-02, -1.4125468e-02,\n",
      "       -8.7056179e-03,  5.0204340e-04], dtype=float32), array([ 0.00857119, -0.00747742, -0.00785438,  0.01127131, -1.2669499 ,\n",
      "        0.00886729,  0.02433363, -0.03474601,  0.02565205, -0.00947861],\n",
      "      dtype=float32), array([ 0.00673865, -0.00695913,  0.01834548, -0.00427401,  1.2629392 ,\n",
      "        0.00362869, -0.00232494,  0.02540078,  0.00141907,  0.00480162],\n",
      "      dtype=float32), array([ 3.6163342e-03, -1.0069197e-02,  1.4808336e-02, -7.0467740e-03,\n",
      "       -8.8538742e-05, -4.3586511e-03, -2.4416458e-03,  2.2553140e-02,\n",
      "        1.4220964e-02, -7.2175062e-01], dtype=float32), array([ 0.00557348,  0.00361864, -0.00724561,  0.0198719 ,  0.00710654,\n",
      "        0.01393854, -0.02189375, -0.01503883,  0.01542623,  0.7892569 ],\n",
      "      dtype=float32)]\n"
     ]
    },
    {
     "data": {
      "image/png": "[encoded data removed]",
      "text/plain": [
       "<Figure size 1200x400 with 2 Axes>"
      ]
     },
     "metadata": {},
     "output_type": "display_data"
    }
   ],
   "source": [
    "width=0.5\n",
    "\n",
    "rep_thetas = [rep.thetas.detach().numpy() for rep in lat_env.action_reps]\n",
    "print(rep_thetas)\n",
    "plt_lim = max( 0.22, max([max(t) for t in rep_thetas])/(2*np.pi) )\n",
    "titles = [\"transformation +\", \"transformation -\"]\n",
    "cols=[\"r\",\"b\",\"g\",\"black\"]\n",
    "labels=[\"x\",\"y\",\"z\",\"color\"]\n",
    "\n",
    "with plt.style.context('seaborn-paper', after_reset=True):\n",
    "\n",
    "    fig, axs = plt.subplots(1, 2, figsize=(12, 4), gridspec_kw={\"wspace\":0.5, \"hspace\":0.5})\n",
    "    \n",
    "    for i, thetas in enumerate(rep_thetas):\n",
    "        x = np.arange(len(thetas))\n",
    "        axs[i%2].bar(x - width/2, thetas/(2*np.pi), width, label=labels[i//2], color=cols[i//2])\n",
    "    for i in range(2):\n",
    "        axs[i].hlines([0.2,-0.2], xmin=-10, xmax=10, linestyles=\"dashed\")\n",
    "        axs[i].hlines(0., xmin=-10, xmax=10)\n",
    "        axs[i].set_yticks([-0.2, 0., 0.2])\n",
    "        axs[i].set_xticks(x-0.25)\n",
    "        axs[i].set_xticklabels([\"12\",\"13\",\"14\",\"15\",\"23\",\"24\",\"25\",\"34\",\"35\",\"45\"], fontsize=10)\n",
    "        axs[i].set_xlabel(\"$ij$\", fontsize=20)\n",
    "        \n",
    "        axs[i].set_ylim(-plt_lim,plt_lim)\n",
    "        axs[i].set_xlim(-0.5,9)\n",
    "        axs[i].set_title(titles[i], fontsize=20)\n",
    "        axs[i].tick_params(labelsize=15)\n",
    "        \n",
    "        axs[i].set_ylabel(r\"$\\theta / 2\\pi$\", fontsize=20)\n",
    "    \n",
    "    axs[1].legend(loc=\"center right\", bbox_to_anchor=(1.5,0.5), fontsize=15)\n",
    "\n",
    "    fig_fname = os.path.join(test_folder, \"thetas\")\n",
    "\n",
    "    plt.savefig(fig_fname + \".pdf\", bbox_inches='tight')\n",
    "    plt.savefig(fig_fname + \".png\", bbox_inches='tight')"
   ]
  },
  {
   "cell_type": "markdown",
   "metadata": {},
   "source": [
    "**2) Show latent space**\n",
    "\n",
    "Note: this isn't particularly informative, but the general spherical shape of the latent space is visible"
   ]
  },
  {
   "cell_type": "code",
   "execution_count": 23,
   "metadata": {
    "colab": {
     "base_uri": "https://localhost:8080/",
     "height": 285
    },
    "colab_type": "code",
    "id": "CGgxGChBZK_i",
    "outputId": "5686a2a4-be90-4496-bf37-74bdf593bdc3"
   },
   "outputs": [
    {
     "data": {
      "text/plain": [
       "[]"
      ]
     },
     "execution_count": 23,
     "metadata": {},
     "output_type": "execute_result"
    },
    {
     "data": {
      "image/png": "[encoded data removed]",
      "text/plain": [
       "<Figure size 432x288 with 1 Axes>"
      ]
     },
     "metadata": {
      "needs_background": "light"
     },
     "output_type": "display_data"
    }
   ],
   "source": [
    "from sklearn.random_projection import GaussianRandomProjection\n",
    "\n",
    "\n",
    "latent_points = []\n",
    "radius = 4.\n",
    "\n",
    "for i in range(20):\n",
    "    for j in range(20):\n",
    "        obs = obs_env.reset()\n",
    "        latent_points.append(encoder(obs).detach().tolist())\n",
    "\n",
    "latent_map = np.array(latent_points)\n",
    "\n",
    "pca = GaussianRandomProjection(n_components=2)\n",
    "\n",
    "latent_2d = pca.fit_transform(latent_map)\n",
    "\n",
    "#color=[\"C0\",\"C1\",\"C2\",\"C3\",\"C4\",\"C5\",\"C6\",\"C7\",\"C8\",\"C9\",\"C10\"]\n",
    "color=['#1f77b4', '#ff7f0e', '#2ca02c', '#d62728', '#9467bd', '#8c564b', '#e377c2', '#7f7f7f', '#bcbd22', '#17becf']\n",
    "marks=[\"+\",\"1\",\"2\",\"3\",\"4\",\">\",\"<\",\"^\",\"v\",\"x\"]\n",
    "\n",
    "for i in range (400):\n",
    "    plt.scatter(latent_map[i][0],\n",
    "                latent_map[i][1], \n",
    "                c=color[i//40], \n",
    "                marker=marks[i%10])\n",
    "plt.plot()\n",
    "\n",
    "\n",
    "\n"
   ]
  },
  {
   "cell_type": "markdown",
   "metadata": {},
   "source": [
    "**3) Show predictions**"
   ]
  },
  {
   "cell_type": "code",
   "execution_count": 24,
   "metadata": {
    "colab": {
     "base_uri": "https://localhost:8080/",
     "height": 895
    },
    "colab_type": "code",
    "id": "vuARW9LtLfwF",
    "outputId": "4112519b-639d-4ba4-f4bb-a04e7b066ee9"
   },
   "outputs": [
    {
     "data": {
      "image/png": "[encoded data removed]",
      "text/plain": [
       "<Figure size 432x288 with 2 Axes>"
      ]
     },
     "metadata": {},
     "output_type": "display_data"
    }
   ],
   "source": [
    "def plot_state(obs, ax):\n",
    "    ax.pcolormesh(obs.reshape(2*obs_env.size, 2*obs_env.size, 2*obs_env.size).sum(axis=2), edgecolors='gray', linewidth=2)\n",
    "    ax.set_aspect('equal')\n",
    "    ax.set_xticks([])\n",
    "    ax.set_yticks([])\n",
    "    \n",
    "    return ax\n",
    "    \n",
    "n_steps = 50\n",
    "\n",
    "fig, (ax1,ax2) = plt.subplots(2, 1)\n",
    "\n",
    "ax1.set_title(\"Ground truth\")\n",
    "ax2.set_title(\"Reconstruction\")\n",
    "\n",
    "for i in range(n_steps+1):\n",
    "    \n",
    "    if i==0:\n",
    "        action = \"N\\A\"\n",
    "        obs_x = obs_env.reset()\n",
    "        obs_z = lat_env.reset(encoder(obs_x))\n",
    "    else:\n",
    "        action = obs_env.action_space.sample().item()\n",
    "        obs_x = obs_env.step(action, angle)\n",
    "        obs_z = lat_env.step(action)\n",
    "        \n",
    "    obs_x_recon = decoder(obs_z)\n",
    "    \n",
    "    fig.suptitle('step {} : last action = {} in the x-y plane'.format(i, action), fontsize=16)\n",
    "    \n",
    "    plot_state(obs_x.detach().numpy(),ax1)\n",
    "    plot_state(obs_x_recon.detach().numpy(),ax2)\n",
    "    \n",
    "    fig_fname = os.path.join(test_folder, \"step_{}\".format(i))\n",
    "\n",
    "    plt.savefig(fig_fname + \".pdf\", bbox_inches='tight')\n",
    "    plt.savefig(fig_fname + \".png\", bbox_inches='tight')\n",
    "    \n",
    "    display.clear_output(wait=True)\n",
    "    display.display(plt.gcf())\n",
    "    time.sleep(.2)\n",
    "    \n",
    "display.clear_output(wait=False)"
   ]
  },
  {
   "cell_type": "code",
   "execution_count": null,
   "metadata": {},
   "outputs": [],
   "source": []
  }
 ],
 "metadata": {
  "colab": {
   "collapsed_sections": [],
   "name": "sphere-world.ipynb",
   "provenance": []
  },
  "kernelspec": {
   "display_name": "Python 3",
   "language": "python",
   "name": "python3"
  },
  "language_info": {
   "codemirror_mode": {
    "name": "ipython",
    "version": 3
   },
   "file_extension": ".py",
   "mimetype": "text/x-python",
   "name": "python",
   "nbconvert_exporter": "python",
   "pygments_lexer": "ipython3",
   "version": "3.6.9"
  }
 },
 "nbformat": 4,
 "nbformat_minor": 1
}
